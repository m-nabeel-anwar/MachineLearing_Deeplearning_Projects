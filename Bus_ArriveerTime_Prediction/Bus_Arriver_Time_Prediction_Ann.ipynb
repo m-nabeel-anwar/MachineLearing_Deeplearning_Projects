{
 "cells": [
  {
   "cell_type": "code",
   "execution_count": 1,
   "metadata": {},
   "outputs": [],
   "source": [
    "import pandas as pd \n",
    "import numpy as np \n",
    "import matplotlib.pyplot as plt \n",
    "import tensorflow as tf \n",
    "import keras \n",
    "from keras.models import Sequential \n",
    "from keras.layers import Dense \n",
    "from sklearn.metrics import confusion_matrix \n",
    "from sklearn.model_selection import train_test_split\n",
    "import os\n",
    "\n",
    "# os.chdir(\"C:/Users/FARIYA/Desktop\")\n"
   ]
  },
  {
   "cell_type": "code",
   "execution_count": 2,
   "metadata": {},
   "outputs": [
    {
     "data": {
      "text/html": [
       "<div>\n",
       "<style scoped>\n",
       "    .dataframe tbody tr th:only-of-type {\n",
       "        vertical-align: middle;\n",
       "    }\n",
       "\n",
       "    .dataframe tbody tr th {\n",
       "        vertical-align: top;\n",
       "    }\n",
       "\n",
       "    .dataframe thead th {\n",
       "        text-align: right;\n",
       "    }\n",
       "</style>\n",
       "<table border=\"1\" class=\"dataframe\">\n",
       "  <thead>\n",
       "    <tr style=\"text-align: right;\">\n",
       "      <th></th>\n",
       "      <th>BusName</th>\n",
       "      <th>Busn</th>\n",
       "      <th>Dayn</th>\n",
       "      <th>S_Lat</th>\n",
       "      <th>S_Lng</th>\n",
       "      <th>E_Lat</th>\n",
       "      <th>E_Lng</th>\n",
       "      <th>S_Time_n</th>\n",
       "      <th>Speed</th>\n",
       "      <th>Distance</th>\n",
       "      <th>TravelTime(Min)</th>\n",
       "    </tr>\n",
       "  </thead>\n",
       "  <tbody>\n",
       "    <tr>\n",
       "      <th>0</th>\n",
       "      <td>1</td>\n",
       "      <td>0</td>\n",
       "      <td>0</td>\n",
       "      <td>25.006991</td>\n",
       "      <td>67.076948</td>\n",
       "      <td>24.996667</td>\n",
       "      <td>67.077635</td>\n",
       "      <td>1</td>\n",
       "      <td>3.033</td>\n",
       "      <td>1.650</td>\n",
       "      <td>9.07</td>\n",
       "    </tr>\n",
       "    <tr>\n",
       "      <th>1</th>\n",
       "      <td>1</td>\n",
       "      <td>11</td>\n",
       "      <td>0</td>\n",
       "      <td>25.006991</td>\n",
       "      <td>67.076948</td>\n",
       "      <td>24.996667</td>\n",
       "      <td>67.077635</td>\n",
       "      <td>1</td>\n",
       "      <td>6.157</td>\n",
       "      <td>1.650</td>\n",
       "      <td>4.47</td>\n",
       "    </tr>\n",
       "    <tr>\n",
       "      <th>2</th>\n",
       "      <td>1</td>\n",
       "      <td>22</td>\n",
       "      <td>0</td>\n",
       "      <td>25.006991</td>\n",
       "      <td>67.076948</td>\n",
       "      <td>24.996667</td>\n",
       "      <td>67.077635</td>\n",
       "      <td>1</td>\n",
       "      <td>3.837</td>\n",
       "      <td>1.650</td>\n",
       "      <td>7.17</td>\n",
       "    </tr>\n",
       "    <tr>\n",
       "      <th>3</th>\n",
       "      <td>1</td>\n",
       "      <td>0</td>\n",
       "      <td>0</td>\n",
       "      <td>24.996667</td>\n",
       "      <td>67.077635</td>\n",
       "      <td>24.966255</td>\n",
       "      <td>67.079505</td>\n",
       "      <td>1</td>\n",
       "      <td>8.938</td>\n",
       "      <td>3.888</td>\n",
       "      <td>7.25</td>\n",
       "    </tr>\n",
       "    <tr>\n",
       "      <th>4</th>\n",
       "      <td>1</td>\n",
       "      <td>11</td>\n",
       "      <td>0</td>\n",
       "      <td>24.996667</td>\n",
       "      <td>67.077635</td>\n",
       "      <td>24.966255</td>\n",
       "      <td>67.079505</td>\n",
       "      <td>1</td>\n",
       "      <td>12.706</td>\n",
       "      <td>3.888</td>\n",
       "      <td>5.10</td>\n",
       "    </tr>\n",
       "    <tr>\n",
       "      <th>...</th>\n",
       "      <td>...</td>\n",
       "      <td>...</td>\n",
       "      <td>...</td>\n",
       "      <td>...</td>\n",
       "      <td>...</td>\n",
       "      <td>...</td>\n",
       "      <td>...</td>\n",
       "      <td>...</td>\n",
       "      <td>...</td>\n",
       "      <td>...</td>\n",
       "      <td>...</td>\n",
       "    </tr>\n",
       "    <tr>\n",
       "      <th>225645</th>\n",
       "      <td>4</td>\n",
       "      <td>73</td>\n",
       "      <td>3</td>\n",
       "      <td>24.906152</td>\n",
       "      <td>67.138835</td>\n",
       "      <td>24.907613</td>\n",
       "      <td>67.133777</td>\n",
       "      <td>4</td>\n",
       "      <td>2.792</td>\n",
       "      <td>1.036</td>\n",
       "      <td>6.18</td>\n",
       "    </tr>\n",
       "    <tr>\n",
       "      <th>225646</th>\n",
       "      <td>4</td>\n",
       "      <td>78</td>\n",
       "      <td>3</td>\n",
       "      <td>24.915087</td>\n",
       "      <td>67.129130</td>\n",
       "      <td>24.920318</td>\n",
       "      <td>67.134346</td>\n",
       "      <td>4</td>\n",
       "      <td>2.523</td>\n",
       "      <td>1.284</td>\n",
       "      <td>8.48</td>\n",
       "    </tr>\n",
       "    <tr>\n",
       "      <th>225647</th>\n",
       "      <td>4</td>\n",
       "      <td>76</td>\n",
       "      <td>3</td>\n",
       "      <td>24.906152</td>\n",
       "      <td>67.138835</td>\n",
       "      <td>24.907613</td>\n",
       "      <td>67.133777</td>\n",
       "      <td>4</td>\n",
       "      <td>1.634</td>\n",
       "      <td>1.036</td>\n",
       "      <td>10.57</td>\n",
       "    </tr>\n",
       "    <tr>\n",
       "      <th>225648</th>\n",
       "      <td>4</td>\n",
       "      <td>78</td>\n",
       "      <td>3</td>\n",
       "      <td>24.920318</td>\n",
       "      <td>67.134346</td>\n",
       "      <td>24.906152</td>\n",
       "      <td>67.138835</td>\n",
       "      <td>4</td>\n",
       "      <td>7.750</td>\n",
       "      <td>2.139</td>\n",
       "      <td>4.60</td>\n",
       "    </tr>\n",
       "    <tr>\n",
       "      <th>225649</th>\n",
       "      <td>4</td>\n",
       "      <td>78</td>\n",
       "      <td>3</td>\n",
       "      <td>24.906152</td>\n",
       "      <td>67.138835</td>\n",
       "      <td>24.907613</td>\n",
       "      <td>67.133777</td>\n",
       "      <td>4</td>\n",
       "      <td>1.811</td>\n",
       "      <td>1.036</td>\n",
       "      <td>9.53</td>\n",
       "    </tr>\n",
       "  </tbody>\n",
       "</table>\n",
       "<p>225650 rows × 11 columns</p>\n",
       "</div>"
      ],
      "text/plain": [
       "        BusName  Busn  Dayn      S_Lat      S_Lng      E_Lat      E_Lng  \\\n",
       "0             1     0     0  25.006991  67.076948  24.996667  67.077635   \n",
       "1             1    11     0  25.006991  67.076948  24.996667  67.077635   \n",
       "2             1    22     0  25.006991  67.076948  24.996667  67.077635   \n",
       "3             1     0     0  24.996667  67.077635  24.966255  67.079505   \n",
       "4             1    11     0  24.996667  67.077635  24.966255  67.079505   \n",
       "...         ...   ...   ...        ...        ...        ...        ...   \n",
       "225645        4    73     3  24.906152  67.138835  24.907613  67.133777   \n",
       "225646        4    78     3  24.915087  67.129130  24.920318  67.134346   \n",
       "225647        4    76     3  24.906152  67.138835  24.907613  67.133777   \n",
       "225648        4    78     3  24.920318  67.134346  24.906152  67.138835   \n",
       "225649        4    78     3  24.906152  67.138835  24.907613  67.133777   \n",
       "\n",
       "        S_Time_n   Speed  Distance  TravelTime(Min)  \n",
       "0              1   3.033     1.650             9.07  \n",
       "1              1   6.157     1.650             4.47  \n",
       "2              1   3.837     1.650             7.17  \n",
       "3              1   8.938     3.888             7.25  \n",
       "4              1  12.706     3.888             5.10  \n",
       "...          ...     ...       ...              ...  \n",
       "225645         4   2.792     1.036             6.18  \n",
       "225646         4   2.523     1.284             8.48  \n",
       "225647         4   1.634     1.036            10.57  \n",
       "225648         4   7.750     2.139             4.60  \n",
       "225649         4   1.811     1.036             9.53  \n",
       "\n",
       "[225650 rows x 11 columns]"
      ]
     },
     "metadata": {},
     "output_type": "display_data"
    }
   ],
   "source": [
    "dataset = pd.read_csv('All_Bus_Data_Clean.csv')\n",
    "display(dataset)"
   ]
  },
  {
   "cell_type": "code",
   "execution_count": 63,
   "metadata": {},
   "outputs": [
    {
     "data": {
      "text/plain": [
       "BusName            0\n",
       "Busn               0\n",
       "Dayn               0\n",
       "S_Lat              0\n",
       "S_Lng              0\n",
       "E_Lat              0\n",
       "E_Lng              0\n",
       "S_Time_n           0\n",
       "Speed              0\n",
       "Distance           0\n",
       "TravelTime(Min)    0\n",
       "dtype: int64"
      ]
     },
     "execution_count": 63,
     "metadata": {},
     "output_type": "execute_result"
    }
   ],
   "source": [
    "dataset.isnull().sum()"
   ]
  },
  {
   "cell_type": "code",
   "execution_count": 2,
   "metadata": {},
   "outputs": [],
   "source": [
    "# dataset=dataset[['Busn','Dayn','S_Lat','S_Lng','E_Lat','E_Lng','S_Time_n','Speed','Distance','Dwell_Time','TravelTime(Min)']]\n",
    "# dataset=dataset.copy()"
   ]
  },
  {
   "cell_type": "code",
   "execution_count": 64,
   "metadata": {},
   "outputs": [],
   "source": [
    "dataset_copied=dataset.copy()"
   ]
  },
  {
   "cell_type": "code",
   "execution_count": 4,
   "metadata": {},
   "outputs": [
    {
     "data": {
      "text/html": [
       "<div>\n",
       "<style scoped>\n",
       "    .dataframe tbody tr th:only-of-type {\n",
       "        vertical-align: middle;\n",
       "    }\n",
       "\n",
       "    .dataframe tbody tr th {\n",
       "        vertical-align: top;\n",
       "    }\n",
       "\n",
       "    .dataframe thead th {\n",
       "        text-align: right;\n",
       "    }\n",
       "</style>\n",
       "<table border=\"1\" class=\"dataframe\">\n",
       "  <thead>\n",
       "    <tr style=\"text-align: right;\">\n",
       "      <th></th>\n",
       "      <th>BusName</th>\n",
       "      <th>Busn</th>\n",
       "      <th>Dayn</th>\n",
       "      <th>S_Lat</th>\n",
       "      <th>S_Lng</th>\n",
       "      <th>E_Lat</th>\n",
       "      <th>E_Lng</th>\n",
       "      <th>S_Time_n</th>\n",
       "      <th>Speed</th>\n",
       "      <th>Distance</th>\n",
       "      <th>TravelTime(Min)</th>\n",
       "    </tr>\n",
       "  </thead>\n",
       "  <tbody>\n",
       "    <tr>\n",
       "      <th>0</th>\n",
       "      <td>1</td>\n",
       "      <td>0</td>\n",
       "      <td>0</td>\n",
       "      <td>25.006991</td>\n",
       "      <td>67.076948</td>\n",
       "      <td>24.996667</td>\n",
       "      <td>67.077635</td>\n",
       "      <td>1.0</td>\n",
       "      <td>3.033</td>\n",
       "      <td>1.650</td>\n",
       "      <td>9.07</td>\n",
       "    </tr>\n",
       "    <tr>\n",
       "      <th>1</th>\n",
       "      <td>1</td>\n",
       "      <td>11</td>\n",
       "      <td>0</td>\n",
       "      <td>25.006991</td>\n",
       "      <td>67.076948</td>\n",
       "      <td>24.996667</td>\n",
       "      <td>67.077635</td>\n",
       "      <td>1.0</td>\n",
       "      <td>6.157</td>\n",
       "      <td>1.650</td>\n",
       "      <td>4.47</td>\n",
       "    </tr>\n",
       "    <tr>\n",
       "      <th>2</th>\n",
       "      <td>1</td>\n",
       "      <td>22</td>\n",
       "      <td>0</td>\n",
       "      <td>25.006991</td>\n",
       "      <td>67.076948</td>\n",
       "      <td>24.996667</td>\n",
       "      <td>67.077635</td>\n",
       "      <td>1.0</td>\n",
       "      <td>3.837</td>\n",
       "      <td>1.650</td>\n",
       "      <td>7.17</td>\n",
       "    </tr>\n",
       "    <tr>\n",
       "      <th>3</th>\n",
       "      <td>1</td>\n",
       "      <td>0</td>\n",
       "      <td>0</td>\n",
       "      <td>24.996667</td>\n",
       "      <td>67.077635</td>\n",
       "      <td>24.966255</td>\n",
       "      <td>67.079505</td>\n",
       "      <td>1.0</td>\n",
       "      <td>8.938</td>\n",
       "      <td>3.888</td>\n",
       "      <td>7.25</td>\n",
       "    </tr>\n",
       "    <tr>\n",
       "      <th>4</th>\n",
       "      <td>1</td>\n",
       "      <td>11</td>\n",
       "      <td>0</td>\n",
       "      <td>24.996667</td>\n",
       "      <td>67.077635</td>\n",
       "      <td>24.966255</td>\n",
       "      <td>67.079505</td>\n",
       "      <td>1.0</td>\n",
       "      <td>12.706</td>\n",
       "      <td>3.888</td>\n",
       "      <td>5.10</td>\n",
       "    </tr>\n",
       "  </tbody>\n",
       "</table>\n",
       "</div>"
      ],
      "text/plain": [
       "   BusName  Busn  Dayn      S_Lat      S_Lng      E_Lat      E_Lng  S_Time_n  \\\n",
       "0        1     0     0  25.006991  67.076948  24.996667  67.077635       1.0   \n",
       "1        1    11     0  25.006991  67.076948  24.996667  67.077635       1.0   \n",
       "2        1    22     0  25.006991  67.076948  24.996667  67.077635       1.0   \n",
       "3        1     0     0  24.996667  67.077635  24.966255  67.079505       1.0   \n",
       "4        1    11     0  24.996667  67.077635  24.966255  67.079505       1.0   \n",
       "\n",
       "    Speed  Distance  TravelTime(Min)  \n",
       "0   3.033     1.650             9.07  \n",
       "1   6.157     1.650             4.47  \n",
       "2   3.837     1.650             7.17  \n",
       "3   8.938     3.888             7.25  \n",
       "4  12.706     3.888             5.10  "
      ]
     },
     "execution_count": 4,
     "metadata": {},
     "output_type": "execute_result"
    }
   ],
   "source": [
    "dataset.head()"
   ]
  },
  {
   "cell_type": "code",
   "execution_count": 16,
   "metadata": {},
   "outputs": [
    {
     "data": {
      "text/plain": [
       "BusName              int64\n",
       "Busn                 int64\n",
       "Dayn                 int64\n",
       "S_Lat              float64\n",
       "S_Lng              float64\n",
       "E_Lat              float64\n",
       "E_Lng              float64\n",
       "S_Time_n             int64\n",
       "Speed              float64\n",
       "Distance           float64\n",
       "TravelTime(Min)    float64\n",
       "dtype: object"
      ]
     },
     "execution_count": 16,
     "metadata": {},
     "output_type": "execute_result"
    }
   ],
   "source": [
    "dataset.dtypes"
   ]
  },
  {
   "cell_type": "code",
   "execution_count": 65,
   "metadata": {},
   "outputs": [
    {
     "data": {
      "text/plain": [
       "(225650, 11)"
      ]
     },
     "execution_count": 65,
     "metadata": {},
     "output_type": "execute_result"
    }
   ],
   "source": [
    "dataset.shape"
   ]
  },
  {
   "cell_type": "code",
   "execution_count": 18,
   "metadata": {},
   "outputs": [
    {
     "name": "stdout",
     "output_type": "stream",
     "text": [
      "<class 'pandas.core.frame.DataFrame'>\n",
      "RangeIndex: 225650 entries, 0 to 225649\n",
      "Data columns (total 11 columns):\n",
      " #   Column           Non-Null Count   Dtype  \n",
      "---  ------           --------------   -----  \n",
      " 0   BusName          225650 non-null  int64  \n",
      " 1   Busn             225650 non-null  int64  \n",
      " 2   Dayn             225650 non-null  int64  \n",
      " 3   S_Lat            225650 non-null  float64\n",
      " 4   S_Lng            225650 non-null  float64\n",
      " 5   E_Lat            225650 non-null  float64\n",
      " 6   E_Lng            225650 non-null  float64\n",
      " 7   S_Time_n         225650 non-null  int64  \n",
      " 8   Speed            225650 non-null  float64\n",
      " 9   Distance         225650 non-null  float64\n",
      " 10  TravelTime(Min)  225650 non-null  float64\n",
      "dtypes: float64(7), int64(4)\n",
      "memory usage: 18.9 MB\n"
     ]
    }
   ],
   "source": [
    "dataset.info()"
   ]
  },
  {
   "cell_type": "code",
   "execution_count": 27,
   "metadata": {},
   "outputs": [
    {
     "data": {
      "text/plain": [
       "Busn            int64\n",
       "Dayn            int64\n",
       "S_Lat         float64\n",
       "S_Lng         float64\n",
       "E_Lat         float64\n",
       "E_Lng         float64\n",
       "S_Time_n        int64\n",
       "Speed         float64\n",
       "Distance      float64\n",
       "Dwell_Time    float64\n",
       "dtype: object"
      ]
     },
     "execution_count": 27,
     "metadata": {},
     "output_type": "execute_result"
    }
   ],
   "source": [
    "dataset.dtypes"
   ]
  },
  {
   "cell_type": "code",
   "execution_count": 10,
   "metadata": {},
   "outputs": [
    {
     "data": {
      "text/html": [
       "<div>\n",
       "<style scoped>\n",
       "    .dataframe tbody tr th:only-of-type {\n",
       "        vertical-align: middle;\n",
       "    }\n",
       "\n",
       "    .dataframe tbody tr th {\n",
       "        vertical-align: top;\n",
       "    }\n",
       "\n",
       "    .dataframe thead th {\n",
       "        text-align: right;\n",
       "    }\n",
       "</style>\n",
       "<table border=\"1\" class=\"dataframe\">\n",
       "  <thead>\n",
       "    <tr style=\"text-align: right;\">\n",
       "      <th></th>\n",
       "      <th>Busn</th>\n",
       "      <th>Dayn</th>\n",
       "      <th>S_Lat</th>\n",
       "      <th>S_Lng</th>\n",
       "      <th>E_Lat</th>\n",
       "      <th>E_Lng</th>\n",
       "      <th>S_Time_n</th>\n",
       "      <th>Speed</th>\n",
       "      <th>Distance</th>\n",
       "      <th>Dwell_Time</th>\n",
       "      <th>TravelTime(Min)</th>\n",
       "    </tr>\n",
       "  </thead>\n",
       "  <tbody>\n",
       "    <tr>\n",
       "      <th>count</th>\n",
       "      <td>47120.000000</td>\n",
       "      <td>47120.000000</td>\n",
       "      <td>47120.000000</td>\n",
       "      <td>47120.000000</td>\n",
       "      <td>47120.000000</td>\n",
       "      <td>47120.000000</td>\n",
       "      <td>47120.000000</td>\n",
       "      <td>47120.000000</td>\n",
       "      <td>47120.000000</td>\n",
       "      <td>47120.000000</td>\n",
       "      <td>47120.000000</td>\n",
       "    </tr>\n",
       "    <tr>\n",
       "      <th>mean</th>\n",
       "      <td>39.500000</td>\n",
       "      <td>2.870968</td>\n",
       "      <td>24.902227</td>\n",
       "      <td>67.041473</td>\n",
       "      <td>24.892296</td>\n",
       "      <td>67.036107</td>\n",
       "      <td>2.077356</td>\n",
       "      <td>5.307854</td>\n",
       "      <td>2.027211</td>\n",
       "      <td>4.979896</td>\n",
       "      <td>7.076470</td>\n",
       "    </tr>\n",
       "    <tr>\n",
       "      <th>std</th>\n",
       "      <td>23.092452</td>\n",
       "      <td>1.979626</td>\n",
       "      <td>0.048567</td>\n",
       "      <td>0.029427</td>\n",
       "      <td>0.045310</td>\n",
       "      <td>0.031679</td>\n",
       "      <td>0.807274</td>\n",
       "      <td>3.606146</td>\n",
       "      <td>1.125605</td>\n",
       "      <td>0.961688</td>\n",
       "      <td>2.158401</td>\n",
       "    </tr>\n",
       "    <tr>\n",
       "      <th>min</th>\n",
       "      <td>0.000000</td>\n",
       "      <td>0.000000</td>\n",
       "      <td>24.848784</td>\n",
       "      <td>66.997472</td>\n",
       "      <td>24.818317</td>\n",
       "      <td>66.974984</td>\n",
       "      <td>1.000000</td>\n",
       "      <td>1.468000</td>\n",
       "      <td>0.953000</td>\n",
       "      <td>3.330000</td>\n",
       "      <td>3.330000</td>\n",
       "    </tr>\n",
       "    <tr>\n",
       "      <th>25%</th>\n",
       "      <td>19.750000</td>\n",
       "      <td>1.000000</td>\n",
       "      <td>24.856809</td>\n",
       "      <td>67.010987</td>\n",
       "      <td>24.852795</td>\n",
       "      <td>67.004018</td>\n",
       "      <td>1.000000</td>\n",
       "      <td>3.082000</td>\n",
       "      <td>1.430000</td>\n",
       "      <td>4.150000</td>\n",
       "      <td>5.220000</td>\n",
       "    </tr>\n",
       "    <tr>\n",
       "      <th>50%</th>\n",
       "      <td>39.500000</td>\n",
       "      <td>3.000000</td>\n",
       "      <td>24.891666</td>\n",
       "      <td>67.043732</td>\n",
       "      <td>24.880616</td>\n",
       "      <td>67.040063</td>\n",
       "      <td>2.000000</td>\n",
       "      <td>4.206000</td>\n",
       "      <td>1.650000</td>\n",
       "      <td>4.970000</td>\n",
       "      <td>7.070000</td>\n",
       "    </tr>\n",
       "    <tr>\n",
       "      <th>75%</th>\n",
       "      <td>59.250000</td>\n",
       "      <td>5.000000</td>\n",
       "      <td>24.936822</td>\n",
       "      <td>67.075996</td>\n",
       "      <td>24.927333</td>\n",
       "      <td>67.064579</td>\n",
       "      <td>3.000000</td>\n",
       "      <td>6.289500</td>\n",
       "      <td>2.073000</td>\n",
       "      <td>5.820000</td>\n",
       "      <td>8.950000</td>\n",
       "    </tr>\n",
       "    <tr>\n",
       "      <th>max</th>\n",
       "      <td>79.000000</td>\n",
       "      <td>6.000000</td>\n",
       "      <td>25.006991</td>\n",
       "      <td>67.085698</td>\n",
       "      <td>24.996667</td>\n",
       "      <td>67.085698</td>\n",
       "      <td>4.000000</td>\n",
       "      <td>29.530000</td>\n",
       "      <td>5.906000</td>\n",
       "      <td>6.650000</td>\n",
       "      <td>10.820000</td>\n",
       "    </tr>\n",
       "  </tbody>\n",
       "</table>\n",
       "</div>"
      ],
      "text/plain": [
       "               Busn          Dayn         S_Lat         S_Lng         E_Lat  \\\n",
       "count  47120.000000  47120.000000  47120.000000  47120.000000  47120.000000   \n",
       "mean      39.500000      2.870968     24.902227     67.041473     24.892296   \n",
       "std       23.092452      1.979626      0.048567      0.029427      0.045310   \n",
       "min        0.000000      0.000000     24.848784     66.997472     24.818317   \n",
       "25%       19.750000      1.000000     24.856809     67.010987     24.852795   \n",
       "50%       39.500000      3.000000     24.891666     67.043732     24.880616   \n",
       "75%       59.250000      5.000000     24.936822     67.075996     24.927333   \n",
       "max       79.000000      6.000000     25.006991     67.085698     24.996667   \n",
       "\n",
       "              E_Lng      S_Time_n         Speed      Distance    Dwell_Time  \\\n",
       "count  47120.000000  47120.000000  47120.000000  47120.000000  47120.000000   \n",
       "mean      67.036107      2.077356      5.307854      2.027211      4.979896   \n",
       "std        0.031679      0.807274      3.606146      1.125605      0.961688   \n",
       "min       66.974984      1.000000      1.468000      0.953000      3.330000   \n",
       "25%       67.004018      1.000000      3.082000      1.430000      4.150000   \n",
       "50%       67.040063      2.000000      4.206000      1.650000      4.970000   \n",
       "75%       67.064579      3.000000      6.289500      2.073000      5.820000   \n",
       "max       67.085698      4.000000     29.530000      5.906000      6.650000   \n",
       "\n",
       "       TravelTime(Min)  \n",
       "count     47120.000000  \n",
       "mean          7.076470  \n",
       "std           2.158401  \n",
       "min           3.330000  \n",
       "25%           5.220000  \n",
       "50%           7.070000  \n",
       "75%           8.950000  \n",
       "max          10.820000  "
      ]
     },
     "execution_count": 10,
     "metadata": {},
     "output_type": "execute_result"
    }
   ],
   "source": [
    "dataset.describe()"
   ]
  },
  {
   "cell_type": "code",
   "execution_count": 11,
   "metadata": {},
   "outputs": [
    {
     "data": {
      "text/plain": [
       "<AxesSubplot:>"
      ]
     },
     "execution_count": 11,
     "metadata": {},
     "output_type": "execute_result"
    },
    {
     "data": {
      "image/png": "[encoded data removed]",
      "text/plain": [
       "<Figure size 1080x576 with 1 Axes>"
      ]
     },
     "metadata": {
      "needs_background": "light"
     },
     "output_type": "display_data"
    }
   ],
   "source": [
    "plt.figure(figsize=(15,8))\n",
    "dataset.corr()['TravelTime(Min)'].sort_values(ascending = False).plot(kind='bar')"
   ]
  },
  {
   "cell_type": "code",
   "execution_count": 12,
   "metadata": {},
   "outputs": [
    {
     "data": {
      "text/plain": [
       "<AxesSubplot:xlabel='Speed', ylabel='Distance'>"
      ]
     },
     "execution_count": 12,
     "metadata": {},
     "output_type": "execute_result"
    },
    {
     "data": {
      "image/png": "[encoded data removed]",
      "text/plain": [
       "<Figure size 432x288 with 1 Axes>"
      ]
     },
     "metadata": {
      "needs_background": "light"
     },
     "output_type": "display_data"
    }
   ],
   "source": [
    "dataset[['Speed', 'Distance']].plot.scatter(x = 'Speed',y='Distance')"
   ]
  },
  {
   "cell_type": "code",
   "execution_count": 13,
   "metadata": {},
   "outputs": [
    {
     "data": {
      "text/plain": [
       "<AxesSubplot:xlabel='S_Time_n', ylabel='Distance'>"
      ]
     },
     "execution_count": 13,
     "metadata": {},
     "output_type": "execute_result"
    },
    {
     "data": {
      "image/png": "[encoded data removed]",
      "text/plain": [
       "<Figure size 432x288 with 1 Axes>"
      ]
     },
     "metadata": {
      "needs_background": "light"
     },
     "output_type": "display_data"
    }
   ],
   "source": [
    "dataset[['S_Time_n', 'Distance']].plot.scatter(x = 'S_Time_n', y='Distance')"
   ]
  },
  {
   "cell_type": "code",
   "execution_count": 14,
   "metadata": {},
   "outputs": [
    {
     "data": {
      "text/plain": [
       "<AxesSubplot:xlabel='Dayn', ylabel='Speed'>"
      ]
     },
     "execution_count": 14,
     "metadata": {},
     "output_type": "execute_result"
    },
    {
     "data": {
      "image/png": "[encoded data removed]",
      "text/plain": [
       "<Figure size 432x288 with 1 Axes>"
      ]
     },
     "metadata": {
      "needs_background": "light"
     },
     "output_type": "display_data"
    }
   ],
   "source": [
    "dataset[['Dayn', 'Speed']].plot.scatter(x = 'Dayn',y='Speed')"
   ]
  },
  {
   "cell_type": "code",
   "execution_count": 15,
   "metadata": {},
   "outputs": [],
   "source": [
    "# dataset.drop(columns=['S_Time'],inplace=True)"
   ]
  },
  {
   "cell_type": "code",
   "execution_count": 3,
   "metadata": {},
   "outputs": [],
   "source": [
    "y=dataset['TravelTime(Min)']"
   ]
  },
  {
   "cell_type": "code",
   "execution_count": 4,
   "metadata": {},
   "outputs": [],
   "source": [
    "dataset.drop(columns=['TravelTime(Min)'],inplace=True)"
   ]
  },
  {
   "cell_type": "code",
   "execution_count": 5,
   "metadata": {},
   "outputs": [],
   "source": [
    "X=dataset"
   ]
  },
  {
   "cell_type": "code",
   "execution_count": 6,
   "metadata": {},
   "outputs": [],
   "source": [
    "# yaha pay splitt or scalling hoe hay"
   ]
  },
  {
   "cell_type": "code",
   "execution_count": 7,
   "metadata": {},
   "outputs": [],
   "source": [
    "X_train, X_test, y_train, y_test = train_test_split(X, y, test_size = 0.25, random_state = 0)"
   ]
  },
  {
   "cell_type": "code",
   "execution_count": 8,
   "metadata": {},
   "outputs": [],
   "source": [
    "# xx=X_train.copy()\n",
    "# xx"
   ]
  },
  {
   "cell_type": "code",
   "execution_count": 9,
   "metadata": {},
   "outputs": [],
   "source": [
    "from sklearn.preprocessing import StandardScaler\n",
    "sc = StandardScaler()\n",
    "X_train = sc.fit_transform(X_train)\n",
    "X_test = sc.transform(X_test)"
   ]
  },
  {
   "cell_type": "code",
   "execution_count": 10,
   "metadata": {},
   "outputs": [],
   "source": [
    "model = Sequential()\n",
    "model.add(Dense(28, activation = 'relu', input_dim = 10)) # Adding input layer & 1st hidden layer"
   ]
  },
  {
   "cell_type": "code",
   "execution_count": 11,
   "metadata": {},
   "outputs": [],
   "source": [
    "# model.add(Dense(units = 28, activation = 'relu')) \n",
    "# model.add(Dense(units = 28, activation = 'relu'))"
   ]
  },
  {
   "cell_type": "code",
   "execution_count": 12,
   "metadata": {},
   "outputs": [],
   "source": [
    "#try1\n",
    "model.add(Dense(units = 32, activation = 'relu')) \n",
    "model.add(Dense(units = 40, activation = 'relu'))\n",
    "model.add(Dense(units = 28, activation = 'relu')) \n",
    "model.add(Dense(units = 18, activation = 'relu'))"
   ]
  },
  {
   "cell_type": "code",
   "execution_count": 13,
   "metadata": {},
   "outputs": [],
   "source": [
    "#Try2\n",
    "# model.add(Dense(units = 38, activation = 'relu'))\n",
    "# model.add(Dense(units = 50, activation = 'relu'))\n",
    "# model.add(Dense(units = 42, activation = 'relu'))\n",
    "# model.add(Dense(units = 25, activation = 'relu'))"
   ]
  },
  {
   "cell_type": "code",
   "execution_count": 14,
   "metadata": {},
   "outputs": [],
   "source": [
    "model.add(Dense(units = 1))"
   ]
  },
  {
   "cell_type": "code",
   "execution_count": 15,
   "metadata": {},
   "outputs": [],
   "source": [
    "model.compile(optimizer = 'adam', loss = 'mean_squared_error')"
   ]
  },
  {
   "cell_type": "code",
   "execution_count": 16,
   "metadata": {},
   "outputs": [
    {
     "name": "stdout",
     "output_type": "stream",
     "text": [
      "Epoch 1/13\n",
      "16924/16924 [==============================] - 40s 2ms/step - loss: 0.3118\n",
      "Epoch 2/13\n",
      "16924/16924 [==============================] - 31s 2ms/step - loss: 0.0115\n",
      "Epoch 3/13\n",
      "16924/16924 [==============================] - 24s 1ms/step - loss: 0.0075\n",
      "Epoch 4/13\n",
      "16924/16924 [==============================] - 24s 1ms/step - loss: 0.0057\n",
      "Epoch 5/13\n",
      "16924/16924 [==============================] - 24s 1ms/step - loss: 0.0044\n",
      "Epoch 6/13\n",
      "16924/16924 [==============================] - 24s 1ms/step - loss: 0.0040\n",
      "Epoch 7/13\n",
      "16924/16924 [==============================] - 26s 2ms/step - loss: 0.0037\n",
      "Epoch 8/13\n",
      "16924/16924 [==============================] - 28s 2ms/step - loss: 0.0031\n",
      "Epoch 9/13\n",
      "16924/16924 [==============================] - 28s 2ms/step - loss: 0.0028\n",
      "Epoch 10/13\n",
      "16924/16924 [==============================] - 27s 2ms/step - loss: 0.0027\n",
      "Epoch 11/13\n",
      "16924/16924 [==============================] - 27s 2ms/step - loss: 0.0025: 1s - l - ET\n",
      "Epoch 12/13\n",
      "16924/16924 [==============================] - 29s 2ms/step - loss: 0.0022\n",
      "Epoch 13/13\n",
      "16924/16924 [==============================] - 26s 2ms/step - loss: 0.0021\n"
     ]
    },
    {
     "data": {
      "text/plain": [
       "<tensorflow.python.keras.callbacks.History at 0x174a6908948>"
      ]
     },
     "execution_count": 16,
     "metadata": {},
     "output_type": "execute_result"
    }
   ],
   "source": [
    "model.fit(X_train, y_train, batch_size = 10, epochs = 13)"
   ]
  },
  {
   "cell_type": "code",
   "execution_count": 13,
   "metadata": {},
   "outputs": [],
   "source": [
    "y_pred = model.predict(X_test)"
   ]
  },
  {
   "cell_type": "code",
   "execution_count": 45,
   "metadata": {},
   "outputs": [],
   "source": [
    "#_pred"
   ]
  },
  {
   "cell_type": "code",
   "execution_count": 14,
   "metadata": {},
   "outputs": [
    {
     "data": {
      "image/png": "[encoded data removed]",
      "text/plain": [
       "<Figure size 432x288 with 1 Axes>"
      ]
     },
     "metadata": {
      "needs_background": "light"
     },
     "output_type": "display_data"
    }
   ],
   "source": [
    "plt.plot(y_test, color = 'red', label = 'Real data')\n",
    "plt.plot(y_pred, color = 'blue', label = 'Predicted data')\n",
    "plt.title('Prediction')\n",
    "plt.legend()\n",
    "plt.show()"
   ]
  },
  {
   "cell_type": "code",
   "execution_count": 15,
   "metadata": {},
   "outputs": [
    {
     "name": "stdout",
     "output_type": "stream",
     "text": [
      "Mean Absolute Error: 0.036786897802590424\n"
     ]
    }
   ],
   "source": [
    "from sklearn import metrics\n",
    "print('Mean Absolute Error:', metrics.mean_absolute_error(y_test, y_pred))  "
   ]
  },
  {
   "cell_type": "code",
   "execution_count": 16,
   "metadata": {},
   "outputs": [
    {
     "name": "stdout",
     "output_type": "stream",
     "text": [
      "Mean Squared Error: 0.0026113935759945095\n"
     ]
    }
   ],
   "source": [
    "print('Mean Squared Error:', metrics.mean_squared_error(y_test, y_pred))  "
   ]
  },
  {
   "cell_type": "code",
   "execution_count": 17,
   "metadata": {},
   "outputs": [
    {
     "name": "stdout",
     "output_type": "stream",
     "text": [
      "Root Mean Squared Error: 0.051101796211038504\n"
     ]
    }
   ],
   "source": [
    "print('Root Mean Squared Error:', np.sqrt(metrics.mean_squared_error(y_test, y_pred)))"
   ]
  },
  {
   "cell_type": "code",
   "execution_count": null,
   "metadata": {},
   "outputs": [],
   "source": []
  },
  {
   "cell_type": "code",
   "execution_count": 18,
   "metadata": {},
   "outputs": [],
   "source": [
    "y_test = np.array(list(y_test))\n",
    "y_pred = np.array(y_pred)\n",
    "df= pd.DataFrame({'Actual': y_test.flatten(), 'Predicted': y_pred.flatten()})"
   ]
  },
  {
   "cell_type": "code",
   "execution_count": 19,
   "metadata": {},
   "outputs": [
    {
     "data": {
      "text/html": [
       "<div>\n",
       "<style scoped>\n",
       "    .dataframe tbody tr th:only-of-type {\n",
       "        vertical-align: middle;\n",
       "    }\n",
       "\n",
       "    .dataframe tbody tr th {\n",
       "        vertical-align: top;\n",
       "    }\n",
       "\n",
       "    .dataframe thead th {\n",
       "        text-align: right;\n",
       "    }\n",
       "</style>\n",
       "<table border=\"1\" class=\"dataframe\">\n",
       "  <thead>\n",
       "    <tr style=\"text-align: right;\">\n",
       "      <th></th>\n",
       "      <th>Actual</th>\n",
       "      <th>Predicted</th>\n",
       "    </tr>\n",
       "  </thead>\n",
       "  <tbody>\n",
       "    <tr>\n",
       "      <th>0</th>\n",
       "      <td>9.23</td>\n",
       "      <td>9.292729</td>\n",
       "    </tr>\n",
       "    <tr>\n",
       "      <th>1</th>\n",
       "      <td>7.02</td>\n",
       "      <td>7.073568</td>\n",
       "    </tr>\n",
       "    <tr>\n",
       "      <th>2</th>\n",
       "      <td>7.85</td>\n",
       "      <td>7.700450</td>\n",
       "    </tr>\n",
       "    <tr>\n",
       "      <th>3</th>\n",
       "      <td>4.07</td>\n",
       "      <td>4.066598</td>\n",
       "    </tr>\n",
       "    <tr>\n",
       "      <th>4</th>\n",
       "      <td>6.37</td>\n",
       "      <td>6.307727</td>\n",
       "    </tr>\n",
       "    <tr>\n",
       "      <th>...</th>\n",
       "      <td>...</td>\n",
       "      <td>...</td>\n",
       "    </tr>\n",
       "    <tr>\n",
       "      <th>56408</th>\n",
       "      <td>4.92</td>\n",
       "      <td>4.940010</td>\n",
       "    </tr>\n",
       "    <tr>\n",
       "      <th>56409</th>\n",
       "      <td>7.67</td>\n",
       "      <td>7.703735</td>\n",
       "    </tr>\n",
       "    <tr>\n",
       "      <th>56410</th>\n",
       "      <td>6.78</td>\n",
       "      <td>6.819014</td>\n",
       "    </tr>\n",
       "    <tr>\n",
       "      <th>56411</th>\n",
       "      <td>8.63</td>\n",
       "      <td>8.581503</td>\n",
       "    </tr>\n",
       "    <tr>\n",
       "      <th>56412</th>\n",
       "      <td>9.93</td>\n",
       "      <td>9.839920</td>\n",
       "    </tr>\n",
       "  </tbody>\n",
       "</table>\n",
       "<p>56413 rows × 2 columns</p>\n",
       "</div>"
      ],
      "text/plain": [
       "       Actual  Predicted\n",
       "0        9.23   9.292729\n",
       "1        7.02   7.073568\n",
       "2        7.85   7.700450\n",
       "3        4.07   4.066598\n",
       "4        6.37   6.307727\n",
       "...       ...        ...\n",
       "56408    4.92   4.940010\n",
       "56409    7.67   7.703735\n",
       "56410    6.78   6.819014\n",
       "56411    8.63   8.581503\n",
       "56412    9.93   9.839920\n",
       "\n",
       "[56413 rows x 2 columns]"
      ]
     },
     "execution_count": 19,
     "metadata": {},
     "output_type": "execute_result"
    }
   ],
   "source": [
    "df"
   ]
  },
  {
   "cell_type": "code",
   "execution_count": 20,
   "metadata": {},
   "outputs": [
    {
     "data": {
      "image/png": "[encoded data removed]",
      "text/plain": [
       "<Figure size 1152x720 with 1 Axes>"
      ]
     },
     "metadata": {
      "needs_background": "light"
     },
     "output_type": "display_data"
    }
   ],
   "source": [
    "df1 = df.head(25)\n",
    "df1.plot(kind='bar',figsize=(16,10))\n",
    "plt.grid(which='major', linestyle='-', linewidth='0.5', color='green')\n",
    "plt.grid(which='minor', linestyle=':', linewidth='0.5', color='black')\n",
    "plt.show()"
   ]
  },
  {
   "cell_type": "markdown",
   "metadata": {},
   "source": [
    "# Module validation using data"
   ]
  },
  {
   "cell_type": "code",
   "execution_count": 24,
   "metadata": {},
   "outputs": [
    {
     "data": {
      "text/html": [
       "<div>\n",
       "<style scoped>\n",
       "    .dataframe tbody tr th:only-of-type {\n",
       "        vertical-align: middle;\n",
       "    }\n",
       "\n",
       "    .dataframe tbody tr th {\n",
       "        vertical-align: top;\n",
       "    }\n",
       "\n",
       "    .dataframe thead th {\n",
       "        text-align: right;\n",
       "    }\n",
       "</style>\n",
       "<table border=\"1\" class=\"dataframe\">\n",
       "  <thead>\n",
       "    <tr style=\"text-align: right;\">\n",
       "      <th></th>\n",
       "      <th>BusName</th>\n",
       "      <th>Busn</th>\n",
       "      <th>Dayn</th>\n",
       "      <th>S_Lat</th>\n",
       "      <th>S_Lng</th>\n",
       "      <th>E_Lat</th>\n",
       "      <th>E_Lng</th>\n",
       "      <th>S_Time_n</th>\n",
       "      <th>Speed</th>\n",
       "      <th>Distance</th>\n",
       "    </tr>\n",
       "  </thead>\n",
       "  <tbody>\n",
       "    <tr>\n",
       "      <th>0</th>\n",
       "      <td>1</td>\n",
       "      <td>0</td>\n",
       "      <td>0</td>\n",
       "      <td>25.006991</td>\n",
       "      <td>67.076948</td>\n",
       "      <td>24.996667</td>\n",
       "      <td>67.077635</td>\n",
       "      <td>1</td>\n",
       "      <td>3.033</td>\n",
       "      <td>1.650</td>\n",
       "    </tr>\n",
       "    <tr>\n",
       "      <th>1</th>\n",
       "      <td>1</td>\n",
       "      <td>11</td>\n",
       "      <td>0</td>\n",
       "      <td>25.006991</td>\n",
       "      <td>67.076948</td>\n",
       "      <td>24.996667</td>\n",
       "      <td>67.077635</td>\n",
       "      <td>1</td>\n",
       "      <td>6.157</td>\n",
       "      <td>1.650</td>\n",
       "    </tr>\n",
       "    <tr>\n",
       "      <th>2</th>\n",
       "      <td>1</td>\n",
       "      <td>22</td>\n",
       "      <td>0</td>\n",
       "      <td>25.006991</td>\n",
       "      <td>67.076948</td>\n",
       "      <td>24.996667</td>\n",
       "      <td>67.077635</td>\n",
       "      <td>1</td>\n",
       "      <td>3.837</td>\n",
       "      <td>1.650</td>\n",
       "    </tr>\n",
       "    <tr>\n",
       "      <th>3</th>\n",
       "      <td>1</td>\n",
       "      <td>0</td>\n",
       "      <td>0</td>\n",
       "      <td>24.996667</td>\n",
       "      <td>67.077635</td>\n",
       "      <td>24.966255</td>\n",
       "      <td>67.079505</td>\n",
       "      <td>1</td>\n",
       "      <td>8.938</td>\n",
       "      <td>3.888</td>\n",
       "    </tr>\n",
       "    <tr>\n",
       "      <th>4</th>\n",
       "      <td>1</td>\n",
       "      <td>11</td>\n",
       "      <td>0</td>\n",
       "      <td>24.996667</td>\n",
       "      <td>67.077635</td>\n",
       "      <td>24.966255</td>\n",
       "      <td>67.079505</td>\n",
       "      <td>1</td>\n",
       "      <td>12.706</td>\n",
       "      <td>3.888</td>\n",
       "    </tr>\n",
       "    <tr>\n",
       "      <th>...</th>\n",
       "      <td>...</td>\n",
       "      <td>...</td>\n",
       "      <td>...</td>\n",
       "      <td>...</td>\n",
       "      <td>...</td>\n",
       "      <td>...</td>\n",
       "      <td>...</td>\n",
       "      <td>...</td>\n",
       "      <td>...</td>\n",
       "      <td>...</td>\n",
       "    </tr>\n",
       "    <tr>\n",
       "      <th>225645</th>\n",
       "      <td>4</td>\n",
       "      <td>73</td>\n",
       "      <td>3</td>\n",
       "      <td>24.906152</td>\n",
       "      <td>67.138835</td>\n",
       "      <td>24.907613</td>\n",
       "      <td>67.133777</td>\n",
       "      <td>4</td>\n",
       "      <td>2.792</td>\n",
       "      <td>1.036</td>\n",
       "    </tr>\n",
       "    <tr>\n",
       "      <th>225646</th>\n",
       "      <td>4</td>\n",
       "      <td>78</td>\n",
       "      <td>3</td>\n",
       "      <td>24.915087</td>\n",
       "      <td>67.129130</td>\n",
       "      <td>24.920318</td>\n",
       "      <td>67.134346</td>\n",
       "      <td>4</td>\n",
       "      <td>2.523</td>\n",
       "      <td>1.284</td>\n",
       "    </tr>\n",
       "    <tr>\n",
       "      <th>225647</th>\n",
       "      <td>4</td>\n",
       "      <td>76</td>\n",
       "      <td>3</td>\n",
       "      <td>24.906152</td>\n",
       "      <td>67.138835</td>\n",
       "      <td>24.907613</td>\n",
       "      <td>67.133777</td>\n",
       "      <td>4</td>\n",
       "      <td>1.634</td>\n",
       "      <td>1.036</td>\n",
       "    </tr>\n",
       "    <tr>\n",
       "      <th>225648</th>\n",
       "      <td>4</td>\n",
       "      <td>78</td>\n",
       "      <td>3</td>\n",
       "      <td>24.920318</td>\n",
       "      <td>67.134346</td>\n",
       "      <td>24.906152</td>\n",
       "      <td>67.138835</td>\n",
       "      <td>4</td>\n",
       "      <td>7.750</td>\n",
       "      <td>2.139</td>\n",
       "    </tr>\n",
       "    <tr>\n",
       "      <th>225649</th>\n",
       "      <td>4</td>\n",
       "      <td>78</td>\n",
       "      <td>3</td>\n",
       "      <td>24.906152</td>\n",
       "      <td>67.138835</td>\n",
       "      <td>24.907613</td>\n",
       "      <td>67.133777</td>\n",
       "      <td>4</td>\n",
       "      <td>1.811</td>\n",
       "      <td>1.036</td>\n",
       "    </tr>\n",
       "  </tbody>\n",
       "</table>\n",
       "<p>225650 rows × 10 columns</p>\n",
       "</div>"
      ],
      "text/plain": [
       "        BusName  Busn  Dayn      S_Lat      S_Lng      E_Lat      E_Lng  \\\n",
       "0             1     0     0  25.006991  67.076948  24.996667  67.077635   \n",
       "1             1    11     0  25.006991  67.076948  24.996667  67.077635   \n",
       "2             1    22     0  25.006991  67.076948  24.996667  67.077635   \n",
       "3             1     0     0  24.996667  67.077635  24.966255  67.079505   \n",
       "4             1    11     0  24.996667  67.077635  24.966255  67.079505   \n",
       "...         ...   ...   ...        ...        ...        ...        ...   \n",
       "225645        4    73     3  24.906152  67.138835  24.907613  67.133777   \n",
       "225646        4    78     3  24.915087  67.129130  24.920318  67.134346   \n",
       "225647        4    76     3  24.906152  67.138835  24.907613  67.133777   \n",
       "225648        4    78     3  24.920318  67.134346  24.906152  67.138835   \n",
       "225649        4    78     3  24.906152  67.138835  24.907613  67.133777   \n",
       "\n",
       "        S_Time_n   Speed  Distance  \n",
       "0              1   3.033     1.650  \n",
       "1              1   6.157     1.650  \n",
       "2              1   3.837     1.650  \n",
       "3              1   8.938     3.888  \n",
       "4              1  12.706     3.888  \n",
       "...          ...     ...       ...  \n",
       "225645         4   2.792     1.036  \n",
       "225646         4   2.523     1.284  \n",
       "225647         4   1.634     1.036  \n",
       "225648         4   7.750     2.139  \n",
       "225649         4   1.811     1.036  \n",
       "\n",
       "[225650 rows x 10 columns]"
      ]
     },
     "execution_count": 24,
     "metadata": {},
     "output_type": "execute_result"
    }
   ],
   "source": [
    "dataset"
   ]
  },
  {
   "cell_type": "code",
   "execution_count": 25,
   "metadata": {},
   "outputs": [],
   "source": [
    "# distance calculaton\n",
    "import math\n",
    "R = 6373.0\n",
    "\n",
    "def distance_calculation(s_lat,s_lng,e_let,e_lng):\n",
    "    lat1 = math.radians(s_lat) \n",
    "    lon1 = math.radians(s_lng)\n",
    "\n",
    "    lat2= math.radians(e_let)  \n",
    "    lon2=math.radians(e_lng)       \n",
    "\n",
    "    dlon = lon2 - lon1\n",
    "    dlat = lat2 - lat1\n",
    "\n",
    "    #Haversine_formula for distance\n",
    "    a = math.sin(dlat / 2)**2 + math.cos(lat1) * math.cos(lat2) * math.sin(dlon / 2)**2\n",
    "    c = 2 * math.atan2(math.sqrt(a), math.sqrt(1 - a))\n",
    "    distance = R * c\n",
    "\n",
    "    return round(distance,3)+0.5"
   ]
  },
  {
   "cell_type": "code",
   "execution_count": 26,
   "metadata": {},
   "outputs": [
    {
     "name": "stdout",
     "output_type": "stream",
     "text": [
      "3.163\n"
     ]
    },
    {
     "data": {
      "text/plain": [
       "array([[5.1611814]], dtype=float32)"
      ]
     },
     "execution_count": 26,
     "metadata": {},
     "output_type": "execute_result"
    }
   ],
   "source": [
    "\n",
    "s_lat=24.886102\n",
    "s_lng=67.041288\n",
    "\n",
    "e_lat=24.9092084  #liaqutabad\n",
    "e_lng=67.0482084\n",
    "dist=distance_calculation(s_lat,s_lng,e_lat,e_lng)\n",
    "print(dist)\n",
    "# first to scale the data [Busn,Dayn,S_Lat,S_Lng,E_Lat,E_Lng,S_Time_n,Speed,Distance,Dwell_Time]\n",
    "newdata=[[1,1,0,s_lat,s_lng,e_lat,e_lng,2,10.22,dist]]\n",
    "\n",
    "new_data=sc.transform(newdata)\n",
    "#print(new_data)\n",
    "y_checking = model.predict(new_data)\n",
    "y_checking"
   ]
  },
  {
   "cell_type": "markdown",
   "metadata": {},
   "source": [
    "# Score check and also kfold"
   ]
  },
  {
   "cell_type": "code",
   "execution_count": 27,
   "metadata": {},
   "outputs": [
    {
     "data": {
      "text/plain": [
       "0.9998811494546836"
      ]
     },
     "execution_count": 27,
     "metadata": {},
     "output_type": "execute_result"
    }
   ],
   "source": [
    "from sklearn.metrics import r2_score\n",
    "r2_score(y_test, y_pred)"
   ]
  },
  {
   "cell_type": "code",
   "execution_count": 36,
   "metadata": {},
   "outputs": [],
   "source": [
    "# from sklearn.model_selection import KFold\n",
    "# folds=KFold(n_splits=10, random_state=10,shuffle=True)"
   ]
  },
  {
   "cell_type": "markdown",
   "metadata": {},
   "source": [
    "# For model_load_Save"
   ]
  },
  {
   "cell_type": "code",
   "execution_count": 38,
   "metadata": {},
   "outputs": [
    {
     "name": "stdout",
     "output_type": "stream",
     "text": [
      "WARNING:tensorflow:From C:\\Users\\Nabeel\\anaconda3\\envs\\tensorflow\\lib\\site-packages\\tensorflow\\python\\training\\tracking\\tracking.py:111: Model.state_updates (from tensorflow.python.keras.engine.training) is deprecated and will be removed in a future version.\n",
      "Instructions for updating:\n",
      "This property should not be used in TensorFlow 2.0, as updates are applied automatically.\n",
      "WARNING:tensorflow:From C:\\Users\\Nabeel\\anaconda3\\envs\\tensorflow\\lib\\site-packages\\tensorflow\\python\\training\\tracking\\tracking.py:111: Layer.updates (from tensorflow.python.keras.engine.base_layer) is deprecated and will be removed in a future version.\n",
      "Instructions for updating:\n",
      "This property should not be used in TensorFlow 2.0, as updates are applied automatically.\n",
      "INFO:tensorflow:Assets written to: D:/fyp/Pythoncode\\assets\n"
     ]
    }
   ],
   "source": [
    "# for model saving and loading\n",
    "model.save('D:/fyp/Pythoncode')"
   ]
  },
  {
   "cell_type": "code",
   "execution_count": 63,
   "metadata": {},
   "outputs": [],
   "source": [
    "#model load\n",
    "from tensorflow import keras\n",
    "modell = keras.models.load_model('D:/fyp/Pythoncode')\n",
    "#modell.predict(X_test)"
   ]
  },
  {
   "cell_type": "code",
   "execution_count": 8,
   "metadata": {},
   "outputs": [],
   "source": [
    "# from sklearn.preprocessing import StandardScaler\n",
    "# sc = StandardScaler()"
   ]
  },
  {
   "cell_type": "code",
   "execution_count": 11,
   "metadata": {},
   "outputs": [
    {
     "name": "stdout",
     "output_type": "stream",
     "text": [
      "8.242\n"
     ]
    },
    {
     "data": {
      "text/plain": [
       "array([[13.486217]], dtype=float32)"
      ]
     },
     "execution_count": 11,
     "metadata": {},
     "output_type": "execute_result"
    }
   ],
   "source": [
    "s_lat=24.8683971\n",
    "s_lng=66.91826\n",
    "\n",
    "e_lat=24.8941353\n",
    "e_lng=66.9895423\n",
    "dist=distance_calculation(s_lat,s_lng,e_lat,e_lng)\n",
    "print(dist)\n",
    "# first to scale the data [BusName,Busn,Dayn,S_Lat,S_Lng,E_Lat,E_Lng,S_Time_n,Speed,Distance,Dwell_Time]\n",
    "newdata=[[2,22,2,s_lat,s_lng,e_lat,e_lng,1,10.98,dist]]\n",
    "\n",
    "new_data=sc.transform(newdata)\n",
    "#print(new_data)\n",
    "y_checking = modell.predict(new_data)\n",
    "y_checking"
   ]
  },
  {
   "cell_type": "markdown",
   "metadata": {},
   "source": [
    "# Model Save and load using joblib"
   ]
  },
  {
   "cell_type": "code",
   "execution_count": 21,
   "metadata": {},
   "outputs": [],
   "source": [
    "from joblib import dump, load\n",
    "# dump(sc, 'D:/fyp/Pythoncode/std_scaler.joblib')"
   ]
  },
  {
   "cell_type": "code",
   "execution_count": 69,
   "metadata": {},
   "outputs": [],
   "source": [
    "# filename='othermodel.sav'\n",
    "# dump(model,filename)"
   ]
  },
  {
   "cell_type": "code",
   "execution_count": 64,
   "metadata": {},
   "outputs": [],
   "source": [
    "std = load('D:/fyp/Pythoncode/std_scaler.joblib')\n"
   ]
  },
  {
   "cell_type": "code",
   "execution_count": 65,
   "metadata": {},
   "outputs": [
    {
     "name": "stdout",
     "output_type": "stream",
     "text": [
      "8.242\n"
     ]
    },
    {
     "data": {
      "text/plain": [
       "array([[13.486217]], dtype=float32)"
      ]
     },
     "execution_count": 65,
     "metadata": {},
     "output_type": "execute_result"
    }
   ],
   "source": [
    "s_lat=24.8683971\n",
    "s_lng=66.91826\n",
    "\n",
    "e_lat=24.8941353\n",
    "e_lng=66.9895423\n",
    "dist=distance_calculation(s_lat,s_lng,e_lat,e_lng)\n",
    "print(dist)\n",
    "# first to scale the data [BusName,Busn,Dayn,S_Lat,S_Lng,E_Lat,E_Lng,S_Time_n,Speed,Distance,Dwell_Time]\n",
    "newdata=[[2,22,2,s_lat,s_lng,e_lat,e_lng,1,10.98,dist]]\n",
    "\n",
    "new_data=std.transform(newdata)\n",
    "#print(new_data)\n",
    "y_checking = modell.predict(new_data)\n",
    "y_checking"
   ]
  },
  {
   "cell_type": "code",
   "execution_count": 14,
   "metadata": {},
   "outputs": [],
   "source": [
    "# filename = 'finalized_model.sav'\n",
    "# dump(model, filename)"
   ]
  },
  {
   "cell_type": "code",
   "execution_count": 17,
   "metadata": {},
   "outputs": [
    {
     "name": "stdout",
     "output_type": "stream",
     "text": [
      "Python 3.7.10\n"
     ]
    }
   ],
   "source": [
    "!python -V"
   ]
  },
  {
   "cell_type": "code",
   "execution_count": null,
   "metadata": {},
   "outputs": [],
   "source": [
    "filename = 'model.sav'\n",
    "dump(model, open(filename, 'wb'))"
   ]
  },
  {
   "cell_type": "code",
   "execution_count": 18,
   "metadata": {},
   "outputs": [
    {
     "name": "stdout",
     "output_type": "stream",
     "text": [
      "Package                  Version\n",
      "------------------------ -------------------\n",
      "absl-py                  0.12.0\n",
      "aiohttp                  3.7.4\n",
      "argon2-cffi              20.1.0\n",
      "astunparse               1.6.3\n",
      "async-generator          1.10\n",
      "async-timeout            3.0.1\n",
      "attrs                    20.3.0\n",
      "backcall                 0.2.0\n",
      "bleach                   3.3.0\n",
      "blinker                  1.4\n",
      "brotlipy                 0.7.0\n",
      "cachetools               4.2.1\n",
      "certifi                  2020.12.5\n",
      "cffi                     1.14.5\n",
      "chardet                  3.0.4\n",
      "click                    7.1.2\n",
      "colorama                 0.4.4\n",
      "coverage                 5.5\n",
      "cryptography             3.4.7\n",
      "cycler                   0.10.0\n",
      "Cython                   0.29.22\n",
      "decorator                4.4.2\n",
      "defusedxml               0.7.1\n",
      "entrypoints              0.3\n",
      "gast                     0.3.3\n",
      "google-auth              1.28.0\n",
      "google-auth-oauthlib     0.4.3\n",
      "google-pasta             0.2.0\n",
      "googleapis-common-protos 1.52.0\n",
      "grpcio                   1.36.1\n",
      "h5py                     2.10.0\n",
      "idna                     2.10\n",
      "importlib-metadata       3.7.3\n",
      "ipykernel                5.3.4\n",
      "ipython                  7.21.0\n",
      "ipython-genutils         0.2.0\n",
      "jedi                     0.17.0\n",
      "Jinja2                   2.11.3\n",
      "joblib                   1.0.1\n",
      "jsonschema               3.2.0\n",
      "jupyter-client           6.1.7\n",
      "jupyter-core             4.7.1\n",
      "jupyterlab-pygments      0.1.2\n",
      "Keras                    2.4.3\n",
      "Keras-Applications       1.0.8\n",
      "Keras-Preprocessing      1.1.2\n",
      "kiwisolver               1.3.1\n",
      "Markdown                 3.3.4\n",
      "MarkupSafe               1.1.1\n",
      "matplotlib               3.3.4\n",
      "mistune                  0.8.4\n",
      "mkl-fft                  1.3.0\n",
      "mkl-random               1.1.1\n",
      "mkl-service              2.3.0\n",
      "multidict                5.1.0\n",
      "nbclient                 0.5.3\n",
      "nbconvert                6.0.7\n",
      "nbformat                 5.1.2\n",
      "nest-asyncio             1.5.1\n",
      "notebook                 6.3.0\n",
      "numpy                    1.19.2\n",
      "oauthlib                 3.1.0\n",
      "olefile                  0.46\n",
      "opt-einsum               3.1.0\n",
      "packaging                20.9\n",
      "pandas                   1.2.3\n",
      "pandocfilters            1.4.3\n",
      "parso                    0.8.1\n",
      "pickleshare              0.7.5\n",
      "Pillow                   8.1.2\n",
      "pip                      21.0.1\n",
      "prometheus-client        0.9.0\n",
      "prompt-toolkit           3.0.17\n",
      "protobuf                 3.14.0\n",
      "pyasn1                   0.4.8\n",
      "pyasn1-modules           0.2.8\n",
      "pycparser                2.20\n",
      "Pygments                 2.8.1\n",
      "PyJWT                    1.7.1\n",
      "pyOpenSSL                20.0.1\n",
      "pyparsing                2.4.7\n",
      "pyreadline               2.1\n",
      "pyrsistent               0.17.3\n",
      "PySocks                  1.7.1\n",
      "python-dateutil          2.8.1\n",
      "pytz                     2021.1\n",
      "pywin32                  227\n",
      "pywinpty                 0.5.7\n",
      "PyYAML                   5.4.1\n",
      "pyzmq                    20.0.0\n",
      "requests                 2.25.1\n",
      "requests-oauthlib        1.3.0\n",
      "rsa                      4.7.2\n",
      "scikit-learn             0.24.1\n",
      "scipy                    1.6.2\n",
      "Send2Trash               1.5.0\n",
      "setuptools               52.0.0.post20210125\n",
      "six                      1.15.0\n",
      "tensorboard              2.4.0\n",
      "tensorboard-plugin-wit   1.6.0\n",
      "tensorflow               2.3.0\n",
      "tensorflow-estimator     2.3.0\n",
      "tensorflow-metadata      0.14.0\n",
      "termcolor                1.1.0\n",
      "terminado                0.9.3\n",
      "testpath                 0.4.4\n",
      "threadpoolctl            2.1.0\n",
      "tornado                  6.1\n",
      "traitlets                5.0.5\n",
      "typing-extensions        3.7.4.3\n",
      "urllib3                  1.26.4\n",
      "wcwidth                  0.2.5\n",
      "webencodings             0.5.1\n",
      "Werkzeug                 1.0.1\n",
      "wheel                    0.36.2\n",
      "win-inet-pton            1.1.0\n",
      "wincertstore             0.2\n",
      "wrapt                    1.12.1\n",
      "yarl                     1.6.3\n",
      "zipp                     3.4.1\n"
     ]
    }
   ],
   "source": [
    "!pip list"
   ]
  },
  {
   "cell_type": "code",
   "execution_count": 19,
   "metadata": {},
   "outputs": [],
   "source": [
    "from keras.models import load_model\n",
    "\n",
    "model.save('my_model.h5')  # creates a HDF5 file 'my_model.h5'\n",
    "del model  # deletes the existing model\n",
    "\n",
    "# returns a compiled model\n",
    "# identical to the previous one\n",
    "model = load_model('my_model.h5')"
   ]
  },
  {
   "cell_type": "code",
   "execution_count": null,
   "metadata": {},
   "outputs": [],
   "source": []
  }
 ],
 "metadata": {
  "kernelspec": {
   "display_name": "Python 3",
   "language": "python",
   "name": "python3"
  },
  "language_info": {
   "codemirror_mode": {
    "name": "ipython",
    "version": 3
   },
   "file_extension": ".py",
   "mimetype": "text/x-python",
   "name": "python",
   "nbconvert_exporter": "python",
   "pygments_lexer": "ipython3",
   "version": "3.7.6"
  }
 },
 "nbformat": 4,
 "nbformat_minor": 5
}
