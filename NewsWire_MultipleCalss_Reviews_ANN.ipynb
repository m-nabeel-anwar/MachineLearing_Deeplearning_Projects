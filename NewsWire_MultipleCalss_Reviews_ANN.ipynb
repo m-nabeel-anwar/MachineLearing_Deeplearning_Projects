{
  "nbformat": 4,
  "nbformat_minor": 5,
  "metadata": {
    "kernelspec": {
      "display_name": "Python 3",
      "language": "python",
      "name": "python3"
    },
    "language_info": {
      "codemirror_mode": {
        "name": "ipython",
        "version": 3
      },
      "file_extension": ".py",
      "mimetype": "text/x-python",
      "name": "python",
      "nbconvert_exporter": "python",
      "pygments_lexer": "ipython3",
      "version": "3.7.10"
    },
    "colab": {
      "name": "NewsWire_MultipleCalss_Reviews_ANN.ipynb",
      "provenance": []
    }
  },
  "cells": [
    {
      "cell_type": "code",
      "metadata": {
        "id": "declared-twins"
      },
      "source": [
        "# Reuters dataset, a set of short newswires and their topics, published\n",
        "# by Reuters in 1986. It’s a simple, widely used toy dataset for text classification. There\n",
        "# are 46 different topics; some topics are more represented than others, but each topic\n",
        "# has at least 10 examples in the training set."
      ],
      "id": "declared-twins",
      "execution_count": null,
      "outputs": []
    },
    {
      "cell_type": "code",
      "metadata": {
        "colab": {
          "base_uri": "https://localhost:8080/"
        },
        "id": "owned-packaging",
        "outputId": "846ed4c5-7ae3-4cb2-d38f-a43106632030"
      },
      "source": [
        "from keras.datasets import reuters\n",
        "(train_data, train_labels), (test_data, test_labels) = reuters.load_data(num_words=10000)"
      ],
      "id": "owned-packaging",
      "execution_count": null,
      "outputs": [
        {
          "output_type": "stream",
          "text": [
            "/usr/local/lib/python3.7/dist-packages/keras/datasets/reuters.py:143: VisibleDeprecationWarning: Creating an ndarray from ragged nested sequences (which is a list-or-tuple of lists-or-tuples-or ndarrays with different lengths or shapes) is deprecated. If you meant to do this, you must specify 'dtype=object' when creating the ndarray\n",
            "  x_train, y_train = np.array(xs[:idx]), np.array(labels[:idx])\n",
            "/usr/local/lib/python3.7/dist-packages/keras/datasets/reuters.py:144: VisibleDeprecationWarning: Creating an ndarray from ragged nested sequences (which is a list-or-tuple of lists-or-tuples-or ndarrays with different lengths or shapes) is deprecated. If you meant to do this, you must specify 'dtype=object' when creating the ndarray\n",
            "  x_test, y_test = np.array(xs[idx:]), np.array(labels[idx:])\n"
          ],
          "name": "stderr"
        }
      ]
    },
    {
      "cell_type": "code",
      "metadata": {
        "colab": {
          "base_uri": "https://localhost:8080/"
        },
        "id": "quick-theta",
        "outputId": "ef019358-e085-4944-f344-72d477c0ca79"
      },
      "source": [
        "print(\"train data length\",len(train_data))\n",
        "print(\"test data length\",len(test_data))"
      ],
      "id": "quick-theta",
      "execution_count": null,
      "outputs": [
        {
          "output_type": "stream",
          "text": [
            "train data length 8982\n",
            "test data length 2246\n"
          ],
          "name": "stdout"
        }
      ]
    },
    {
      "cell_type": "code",
      "metadata": {
        "id": "complimentary-publication"
      },
      "source": [
        "#  deocde into text\n",
        "# word_index = reuters.get_word_index()\n",
        "# reverse_word_index = dict([(value, key) for (key, value) in word_index.items()])\n",
        "# decoded_newswire = ' '.join([reverse_word_index.get(i - 3, '?') for i in\n",
        "# train_data[0]])\n",
        "# train_labels[10]"
      ],
      "id": "complimentary-publication",
      "execution_count": null,
      "outputs": []
    },
    {
      "cell_type": "code",
      "metadata": {
        "id": "miniature-drill"
      },
      "source": [
        "#  now labelencode our data"
      ],
      "id": "miniature-drill",
      "execution_count": null,
      "outputs": []
    },
    {
      "cell_type": "code",
      "metadata": {
        "id": "equipped-python"
      },
      "source": [
        "import numpy as np\n",
        "def vectorize_sequences(sequences, dimension=10000):\n",
        "    results = np.zeros((len(sequences), dimension))\n",
        "    for i, sequence in enumerate(sequences):\n",
        "        results[i, sequence] = 1.\n",
        "    return results\n",
        "x_train = vectorize_sequences(train_data)\n",
        "x_test = vectorize_sequences(test_data)"
      ],
      "id": "equipped-python",
      "execution_count": null,
      "outputs": []
    },
    {
      "cell_type": "code",
      "metadata": {
        "id": "neutral-jackson"
      },
      "source": [
        "#  one hot label encoding"
      ],
      "id": "neutral-jackson",
      "execution_count": null,
      "outputs": []
    },
    {
      "cell_type": "code",
      "metadata": {
        "id": "impossible-moisture"
      },
      "source": [
        "def to_one_hot(labels, dimension=46):\n",
        "    results = np.zeros((len(labels), dimension))\n",
        "    for i, label in enumerate(labels):\n",
        "        results[i, label] = 1.\n",
        "    return results\n",
        "one_hot_train_labels = to_one_hot(train_labels)\n",
        "one_hot_test_labels = to_one_hot(test_labels)"
      ],
      "id": "impossible-moisture",
      "execution_count": null,
      "outputs": []
    },
    {
      "cell_type": "code",
      "metadata": {
        "id": "associate-absence"
      },
      "source": [
        "#  build in label encoding method\n",
        "# from keras.utils.np_utils import to_categorical\n",
        "# one_hot_train_labels = to_categorical(train_labels)\n",
        "# one_hot_test_labels = to_categorical(test_labels)"
      ],
      "id": "associate-absence",
      "execution_count": null,
      "outputs": []
    },
    {
      "cell_type": "code",
      "metadata": {
        "id": "included-tooth"
      },
      "source": [
        "#  now model building\n",
        "#  we use softmax for multi-class probability ditriburtui"
      ],
      "id": "included-tooth",
      "execution_count": null,
      "outputs": []
    },
    {
      "cell_type": "code",
      "metadata": {
        "id": "collectible-doubt"
      },
      "source": [
        "from keras import models\n",
        "from keras import layers\n",
        "model = models.Sequential()\n",
        "model.add(layers.Dense(64, activation='relu', input_shape=(10000,)))\n",
        "model.add(layers.Dense(64, activation='relu'))\n",
        "model.add(layers.Dense(46, activation='softmax'))"
      ],
      "id": "collectible-doubt",
      "execution_count": null,
      "outputs": []
    },
    {
      "cell_type": "code",
      "metadata": {
        "id": "becoming-michael"
      },
      "source": [
        "# Model compiling"
      ],
      "id": "becoming-michael",
      "execution_count": null,
      "outputs": []
    },
    {
      "cell_type": "code",
      "metadata": {
        "id": "headed-diploma"
      },
      "source": [
        "model.compile(optimizer='rmsprop',loss='categorical_crossentropy',metrics=['accuracy'])"
      ],
      "id": "headed-diploma",
      "execution_count": null,
      "outputs": []
    },
    {
      "cell_type": "code",
      "metadata": {
        "id": "digital-wyoming"
      },
      "source": [
        "# using 1000 sempli for validation"
      ],
      "id": "digital-wyoming",
      "execution_count": null,
      "outputs": []
    },
    {
      "cell_type": "code",
      "metadata": {
        "id": "liquid-extra"
      },
      "source": [
        "x_val = x_train[:1000]\n",
        "partial_x_train = x_train[1000:]\n",
        "y_val = one_hot_train_labels[:1000]\n",
        "partial_y_train = one_hot_train_labels[1000:]"
      ],
      "id": "liquid-extra",
      "execution_count": null,
      "outputs": []
    },
    {
      "cell_type": "code",
      "metadata": {
        "id": "complex-stuff"
      },
      "source": [
        "#  Model Training"
      ],
      "id": "complex-stuff",
      "execution_count": null,
      "outputs": []
    },
    {
      "cell_type": "code",
      "metadata": {
        "colab": {
          "base_uri": "https://localhost:8080/"
        },
        "id": "verified-water",
        "outputId": "3d42cf5a-0656-43c6-dcc6-f51301f08aab"
      },
      "source": [
        "history = model.fit(partial_x_train,partial_y_train,epochs=20,batch_size=512,validation_data=(x_val, y_val))"
      ],
      "id": "verified-water",
      "execution_count": null,
      "outputs": [
        {
          "output_type": "stream",
          "text": [
            "Epoch 1/20\n",
            "16/16 [==============================] - 2s 66ms/step - loss: 3.1916 - accuracy: 0.4130 - val_loss: 1.7112 - val_accuracy: 0.6330\n",
            "Epoch 2/20\n",
            "16/16 [==============================] - 1s 46ms/step - loss: 1.4807 - accuracy: 0.6941 - val_loss: 1.3063 - val_accuracy: 0.7210\n",
            "Epoch 3/20\n",
            "16/16 [==============================] - 1s 47ms/step - loss: 1.0841 - accuracy: 0.7804 - val_loss: 1.1254 - val_accuracy: 0.7560\n",
            "Epoch 4/20\n",
            "16/16 [==============================] - 1s 46ms/step - loss: 0.8453 - accuracy: 0.8238 - val_loss: 1.0219 - val_accuracy: 0.7940\n",
            "Epoch 5/20\n",
            "16/16 [==============================] - 1s 48ms/step - loss: 0.6530 - accuracy: 0.8673 - val_loss: 0.9563 - val_accuracy: 0.8070\n",
            "Epoch 6/20\n",
            "16/16 [==============================] - 1s 45ms/step - loss: 0.5282 - accuracy: 0.8929 - val_loss: 0.9281 - val_accuracy: 0.8020\n",
            "Epoch 7/20\n",
            "16/16 [==============================] - 1s 47ms/step - loss: 0.4181 - accuracy: 0.9128 - val_loss: 0.8942 - val_accuracy: 0.8180\n",
            "Epoch 8/20\n",
            "16/16 [==============================] - 1s 45ms/step - loss: 0.3411 - accuracy: 0.9307 - val_loss: 0.9330 - val_accuracy: 0.7930\n",
            "Epoch 9/20\n",
            "16/16 [==============================] - 1s 69ms/step - loss: 0.2970 - accuracy: 0.9358 - val_loss: 0.9214 - val_accuracy: 0.8040\n",
            "Epoch 10/20\n",
            "16/16 [==============================] - 1s 46ms/step - loss: 0.2406 - accuracy: 0.9454 - val_loss: 0.9109 - val_accuracy: 0.8080\n",
            "Epoch 11/20\n",
            "16/16 [==============================] - 1s 45ms/step - loss: 0.1974 - accuracy: 0.9503 - val_loss: 1.0031 - val_accuracy: 0.8030\n",
            "Epoch 12/20\n",
            "16/16 [==============================] - 1s 46ms/step - loss: 0.1826 - accuracy: 0.9533 - val_loss: 0.9499 - val_accuracy: 0.8080\n",
            "Epoch 13/20\n",
            "16/16 [==============================] - 1s 45ms/step - loss: 0.1525 - accuracy: 0.9596 - val_loss: 0.9623 - val_accuracy: 0.8080\n",
            "Epoch 14/20\n",
            "16/16 [==============================] - 1s 45ms/step - loss: 0.1448 - accuracy: 0.9584 - val_loss: 0.9821 - val_accuracy: 0.8150\n",
            "Epoch 15/20\n",
            "16/16 [==============================] - 1s 45ms/step - loss: 0.1314 - accuracy: 0.9581 - val_loss: 1.0078 - val_accuracy: 0.8010\n",
            "Epoch 16/20\n",
            "16/16 [==============================] - 1s 45ms/step - loss: 0.1231 - accuracy: 0.9629 - val_loss: 1.0176 - val_accuracy: 0.8080\n",
            "Epoch 17/20\n",
            "16/16 [==============================] - 1s 46ms/step - loss: 0.1210 - accuracy: 0.9599 - val_loss: 1.0129 - val_accuracy: 0.8190\n",
            "Epoch 18/20\n",
            "16/16 [==============================] - 1s 45ms/step - loss: 0.1103 - accuracy: 0.9632 - val_loss: 1.0530 - val_accuracy: 0.8080\n",
            "Epoch 19/20\n",
            "16/16 [==============================] - 1s 44ms/step - loss: 0.1142 - accuracy: 0.9594 - val_loss: 1.1275 - val_accuracy: 0.7900\n",
            "Epoch 20/20\n",
            "16/16 [==============================] - 1s 44ms/step - loss: 0.1022 - accuracy: 0.9638 - val_loss: 1.0933 - val_accuracy: 0.7940\n"
          ],
          "name": "stdout"
        }
      ]
    },
    {
      "cell_type": "code",
      "metadata": {
        "id": "cellular-invite"
      },
      "source": [
        "# Ploting the traing and validation loss"
      ],
      "id": "cellular-invite",
      "execution_count": null,
      "outputs": []
    },
    {
      "cell_type": "code",
      "metadata": {
        "colab": {
          "base_uri": "https://localhost:8080/"
        },
        "id": "aerial-battlefield",
        "outputId": "c43bfacc-d626-4418-8c2d-68b766441a54"
      },
      "source": [
        "import matplotlib.pyplot as plt\n",
        "loss = history.history['loss']\n",
        "val_loss = history.history['val_loss']\n",
        "epochs = range(1, len(loss) + 1)\n",
        "plt.plot(epochs, loss, 'bo', label='Training loss')\n",
        "plt.plot(epochs, val_loss, 'b', label='Validation loss')\n",
        "plt.title('Training and validation loss')\n",
        "plt.xlabel('Epochs')\n",
        "plt.ylabel('Loss')\n",
        "plt.legend()\n",
        "plt.show()"
      ],
      "id": "aerial-battlefield",
      "execution_count": null,
      "outputs": [
        {
          "output_type": "display_data",
          "data": {
            "image/png": "[encoded data removed]",
            "text/plain": [
              "<Figure size 432x288 with 1 Axes>"
            ]
          },
          "metadata": {
            "tags": [],
            "needs_background": "light"
          }
        }
      ]
    },
    {
      "cell_type": "code",
      "metadata": {
        "id": "ordered-panel"
      },
      "source": [
        "#  Ploting training and validation accuracy"
      ],
      "id": "ordered-panel",
      "execution_count": null,
      "outputs": []
    },
    {
      "cell_type": "code",
      "metadata": {
        "colab": {
          "base_uri": "https://localhost:8080/"
        },
        "id": "bridal-shelter",
        "outputId": "346bb724-de27-4d9d-d80f-f0f81e7a9912"
      },
      "source": [
        "acc = history.history['accuracy']\n",
        "val_acc = history.history['val_accuracy']\n",
        "plt.plot(epochs, acc, 'bo', label='Training acc')\n",
        "plt.plot(epochs, val_acc, 'b', label='Validation acc')\n",
        "plt.title('Training and validation accuracy')\n",
        "plt.xlabel('Epochs')\n",
        "plt.ylabel('Loss')\n",
        "plt.legend()\n",
        "plt.show()"
      ],
      "id": "bridal-shelter",
      "execution_count": null,
      "outputs": [
        {
          "output_type": "display_data",
          "data": {
            "image/png": "[encoded data removed]",
            "text/plain": [
              "<Figure size 432x288 with 1 Axes>"
            ]
          },
          "metadata": {
            "tags": [],
            "needs_background": "light"
          }
        }
      ]
    },
    {
      "cell_type": "code",
      "metadata": {
        "id": "thirty-indie"
      },
      "source": [
        "#  now retaining our model"
      ],
      "id": "thirty-indie",
      "execution_count": null,
      "outputs": []
    },
    {
      "cell_type": "code",
      "metadata": {
        "colab": {
          "base_uri": "https://localhost:8080/"
        },
        "id": "tough-immunology",
        "outputId": "23abc7c7-7ee0-4b25-f8f1-533eb7b99937"
      },
      "source": [
        "model = models.Sequential()\n",
        "\n",
        "model.add(layers.Dense(64, activation='relu', input_shape=(10000,)))\n",
        "model.add(layers.Dense(64, activation='relu'))\n",
        "model.add(layers.Dense(46, activation='softmax'))\n",
        "\n",
        "model.compile(optimizer='rmsprop',loss='categorical_crossentropy',metrics=['accuracy'])\n",
        "model.fit(partial_x_train,partial_y_train,epochs=9,batch_size=512,\n",
        "validation_data=(x_val, y_val))\n",
        "results = model.evaluate(x_test, one_hot_test_labels)"
      ],
      "id": "tough-immunology",
      "execution_count": null,
      "outputs": [
        {
          "output_type": "stream",
          "text": [
            "Epoch 1/9\n",
            "16/16 [==============================] - 2s 64ms/step - loss: 3.2366 - accuracy: 0.3855 - val_loss: 1.8145 - val_accuracy: 0.6460\n",
            "Epoch 2/9\n",
            "16/16 [==============================] - 1s 45ms/step - loss: 1.5511 - accuracy: 0.6981 - val_loss: 1.3512 - val_accuracy: 0.7100\n",
            "Epoch 3/9\n",
            "16/16 [==============================] - 1s 46ms/step - loss: 1.1127 - accuracy: 0.7716 - val_loss: 1.1622 - val_accuracy: 0.7400\n",
            "Epoch 4/9\n",
            "16/16 [==============================] - 1s 45ms/step - loss: 0.8615 - accuracy: 0.8108 - val_loss: 1.0683 - val_accuracy: 0.7750\n",
            "Epoch 5/9\n",
            "16/16 [==============================] - 1s 45ms/step - loss: 0.6669 - accuracy: 0.8583 - val_loss: 1.0104 - val_accuracy: 0.7850\n",
            "Epoch 6/9\n",
            "16/16 [==============================] - 1s 45ms/step - loss: 0.5458 - accuracy: 0.8826 - val_loss: 0.9527 - val_accuracy: 0.7970\n",
            "Epoch 7/9\n",
            "16/16 [==============================] - 1s 45ms/step - loss: 0.4247 - accuracy: 0.9094 - val_loss: 0.9637 - val_accuracy: 0.7950\n",
            "Epoch 8/9\n",
            "16/16 [==============================] - 1s 46ms/step - loss: 0.3588 - accuracy: 0.9260 - val_loss: 0.9185 - val_accuracy: 0.8110\n",
            "Epoch 9/9\n",
            "16/16 [==============================] - 1s 44ms/step - loss: 0.2810 - accuracy: 0.9392 - val_loss: 0.9614 - val_accuracy: 0.8030\n",
            "71/71 [==============================] - 0s 3ms/step - loss: 0.9987 - accuracy: 0.7809\n"
          ],
          "name": "stdout"
        }
      ]
    },
    {
      "cell_type": "code",
      "metadata": {
        "colab": {
          "base_uri": "https://localhost:8080/"
        },
        "id": "upset-album",
        "outputId": "4f844484-41fd-495b-c29a-a63212e93419"
      },
      "source": [
        "results"
      ],
      "id": "upset-album",
      "execution_count": null,
      "outputs": [
        {
          "output_type": "execute_result",
          "data": {
            "text/plain": [
              "[0.9987009167671204, 0.7809438705444336]"
            ]
          },
          "metadata": {
            "tags": []
          },
          "execution_count": 51
        }
      ]
    },
    {
      "cell_type": "code",
      "metadata": {
        "id": "compressed-chicken"
      },
      "source": [
        "# This approach reaches an accuracy of ~80%. With a balanced binary classification\n",
        "# problem, the accuracy reached by a purely random classifier would be 50%. But in\n",
        "# this case it’s closer to 19%, so the results seem pretty good, at least when compared to\n",
        "# a random baseline:"
      ],
      "id": "compressed-chicken",
      "execution_count": null,
      "outputs": []
    },
    {
      "cell_type": "code",
      "metadata": {
        "colab": {
          "base_uri": "https://localhost:8080/"
        },
        "id": "statewide-damages",
        "outputId": "8c8fed6c-5ff1-4789-dc8d-abb5f6313b0a"
      },
      "source": [
        "import copy\n",
        "test_labels_copy = copy.copy(test_labels)\n",
        "np.random.shuffle(test_labels_copy)\n",
        "hits_array = np.array(test_labels) == np.array(test_labels_copy)\n",
        "float(np.sum(hits_array)) / len(test_labels)"
      ],
      "id": "statewide-damages",
      "execution_count": null,
      "outputs": [
        {
          "output_type": "execute_result",
          "data": {
            "text/plain": [
              "0.19634906500445237"
            ]
          },
          "metadata": {
            "tags": []
          },
          "execution_count": 53
        }
      ]
    },
    {
      "cell_type": "code",
      "metadata": {
        "id": "perfect-fellowship"
      },
      "source": [
        "# Prediction"
      ],
      "id": "perfect-fellowship",
      "execution_count": null,
      "outputs": []
    },
    {
      "cell_type": "code",
      "metadata": {
        "colab": {
          "base_uri": "https://localhost:8080/"
        },
        "id": "unusual-dependence",
        "outputId": "0d3494a8-059a-4c15-c3c3-bfe34f1c29b6"
      },
      "source": [
        "predictions = model.predict(x_test)\n",
        "predictions[0].shape"
      ],
      "id": "unusual-dependence",
      "execution_count": null,
      "outputs": [
        {
          "output_type": "execute_result",
          "data": {
            "text/plain": [
              "(46,)"
            ]
          },
          "metadata": {
            "tags": []
          },
          "execution_count": 55
        }
      ]
    },
    {
      "cell_type": "code",
      "metadata": {
        "colab": {
          "base_uri": "https://localhost:8080/"
        },
        "id": "jewish-google",
        "outputId": "ab9021ab-effe-48ca-b583-2345959bb2ec"
      },
      "source": [
        "predictions"
      ],
      "id": "jewish-google",
      "execution_count": null,
      "outputs": [
        {
          "output_type": "execute_result",
          "data": {
            "text/plain": [
              "array([[1.30900835e-05, 3.88216395e-05, 1.76656977e-04, ...,\n",
              "        1.24486896e-05, 1.44463456e-06, 5.12496217e-06],\n",
              "       [8.50477163e-03, 6.27539009e-02, 6.25091568e-02, ...,\n",
              "        1.29764003e-03, 8.00024338e-07, 6.87683278e-05],\n",
              "       [7.26309558e-03, 7.75756717e-01, 1.32640777e-03, ...,\n",
              "        2.32967827e-03, 6.12733420e-04, 1.14758572e-04],\n",
              "       ...,\n",
              "       [1.99379301e-05, 3.12532589e-04, 1.99749207e-04, ...,\n",
              "        4.59054827e-05, 8.24905419e-06, 1.57576651e-05],\n",
              "       [3.30324605e-04, 7.81915244e-03, 1.76329864e-03, ...,\n",
              "        3.67353001e-04, 5.66637682e-05, 8.80382649e-05],\n",
              "       [7.59696413e-04, 3.70159447e-01, 5.52941579e-03, ...,\n",
              "        1.26279204e-03, 1.97405447e-04, 1.01732949e-04]], dtype=float32)"
            ]
          },
          "metadata": {
            "tags": []
          },
          "execution_count": 56
        }
      ]
    },
    {
      "cell_type": "code",
      "metadata": {
        "id": "respective-lambda"
      },
      "source": [
        ""
      ],
      "id": "respective-lambda",
      "execution_count": null,
      "outputs": []
    }
  ]
}