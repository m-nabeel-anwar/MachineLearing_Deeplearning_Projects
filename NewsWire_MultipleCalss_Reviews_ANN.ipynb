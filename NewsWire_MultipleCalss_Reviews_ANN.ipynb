{
 "cells": [
  {
   "cell_type": "code",
   "execution_count": 1,
   "id": "declared-twins",
   "metadata": {},
   "outputs": [],
   "source": [
    "# Reuters dataset, a set of short newswires and their topics, published\n",
    "# by Reuters in 1986. It’s a simple, widely used toy dataset for text classification. There\n",
    "# are 46 different topics; some topics are more represented than others, but each topic\n",
    "# has at least 10 examples in the training set."
   ]
  },
  {
   "cell_type": "code",
   "execution_count": 43,
   "id": "owned-packaging",
   "metadata": {},
   "outputs": [
    {
     "name": "stderr",
     "output_type": "stream",
     "text": [
      "C:\\Users\\Nabeel\\anaconda3\\envs\\tensorflow\\lib\\site-packages\\tensorflow\\python\\keras\\datasets\\reuters.py:148: VisibleDeprecationWarning: Creating an ndarray from ragged nested sequences (which is a list-or-tuple of lists-or-tuples-or ndarrays with different lengths or shapes) is deprecated. If you meant to do this, you must specify 'dtype=object' when creating the ndarray\n",
      "  x_train, y_train = np.array(xs[:idx]), np.array(labels[:idx])\n",
      "C:\\Users\\Nabeel\\anaconda3\\envs\\tensorflow\\lib\\site-packages\\tensorflow\\python\\keras\\datasets\\reuters.py:149: VisibleDeprecationWarning: Creating an ndarray from ragged nested sequences (which is a list-or-tuple of lists-or-tuples-or ndarrays with different lengths or shapes) is deprecated. If you meant to do this, you must specify 'dtype=object' when creating the ndarray\n",
      "  x_test, y_test = np.array(xs[idx:]), np.array(labels[idx:])\n"
     ]
    }
   ],
   "source": [
    "from keras.datasets import reuters\n",
    "(train_data, train_labels), (test_data, test_labels) = reuters.load_data(num_words=10000)"
   ]
  },
  {
   "cell_type": "code",
   "execution_count": 44,
   "id": "quick-theta",
   "metadata": {},
   "outputs": [
    {
     "name": "stdout",
     "output_type": "stream",
     "text": [
      "train data length 8982\n",
      "test data length 2246\n"
     ]
    }
   ],
   "source": [
    "print(\"train data length\",len(train_data))\n",
    "print(\"test data length\",len(test_data))"
   ]
  },
  {
   "cell_type": "code",
   "execution_count": 21,
   "id": "complimentary-publication",
   "metadata": {},
   "outputs": [],
   "source": [
    "#  deocde into text\n",
    "# word_index = reuters.get_word_index()\n",
    "# reverse_word_index = dict([(value, key) for (key, value) in word_index.items()])\n",
    "# decoded_newswire = ' '.join([reverse_word_index.get(i - 3, '?') for i in\n",
    "# train_data[0]])\n",
    "# train_labels[10]"
   ]
  },
  {
   "cell_type": "code",
   "execution_count": 22,
   "id": "miniature-drill",
   "metadata": {},
   "outputs": [],
   "source": [
    "#  now labelencode our data"
   ]
  },
  {
   "cell_type": "code",
   "execution_count": 45,
   "id": "equipped-python",
   "metadata": {},
   "outputs": [],
   "source": [
    "import numpy as np\n",
    "def vectorize_sequences(sequences, dimension=10000):\n",
    "    results = np.zeros((len(sequences), dimension))\n",
    "    for i, sequence in enumerate(sequences):\n",
    "        results[i, sequence] = 1.\n",
    "        return results\n",
    "x_train = vectorize_sequences(train_data)\n",
    "x_test = vectorize_sequences(test_data)"
   ]
  },
  {
   "cell_type": "code",
   "execution_count": 46,
   "id": "neutral-jackson",
   "metadata": {},
   "outputs": [],
   "source": [
    "#  one hot label encoding"
   ]
  },
  {
   "cell_type": "code",
   "execution_count": 47,
   "id": "impossible-moisture",
   "metadata": {},
   "outputs": [],
   "source": [
    "def to_one_hot(labels, dimension=46):\n",
    "    results = np.zeros((len(labels), dimension))\n",
    "    for i, label in enumerate(labels):\n",
    "        results[i, label] = 1.\n",
    "        return results\n",
    "one_hot_train_labels = to_one_hot(train_labels)\n",
    "one_hot_test_labels = to_one_hot(test_labels)"
   ]
  },
  {
   "cell_type": "code",
   "execution_count": 48,
   "id": "associate-absence",
   "metadata": {},
   "outputs": [],
   "source": [
    "#  build in label encoding method\n",
    "# from keras.utils.np_utils import to_categorical\n",
    "# one_hot_train_labels = to_categorical(train_labels)\n",
    "# one_hot_test_labels = to_categorical(test_labels)"
   ]
  },
  {
   "cell_type": "code",
   "execution_count": 27,
   "id": "included-tooth",
   "metadata": {},
   "outputs": [],
   "source": [
    "#  now model building\n",
    "#  we use softmax for multi-class probability ditriburtui"
   ]
  },
  {
   "cell_type": "code",
   "execution_count": 49,
   "id": "collectible-doubt",
   "metadata": {},
   "outputs": [],
   "source": [
    "from keras import models\n",
    "from keras import layers\n",
    "model = models.Sequential()\n",
    "model.add(layers.Dense(64, activation='relu', input_shape=(10000,)))\n",
    "model.add(layers.Dense(64, activation='relu'))\n",
    "model.add(layers.Dense(46, activation='softmax'))"
   ]
  },
  {
   "cell_type": "code",
   "execution_count": 10,
   "id": "becoming-michael",
   "metadata": {},
   "outputs": [],
   "source": [
    "# Model compiling"
   ]
  },
  {
   "cell_type": "code",
   "execution_count": 50,
   "id": "headed-diploma",
   "metadata": {},
   "outputs": [],
   "source": [
    "model.compile(optimizer='rmsprop',loss='categorical_crossentropy',metrics=['accuracy'])"
   ]
  },
  {
   "cell_type": "code",
   "execution_count": 12,
   "id": "digital-wyoming",
   "metadata": {},
   "outputs": [],
   "source": [
    "# using 1000 sempli for validation"
   ]
  },
  {
   "cell_type": "code",
   "execution_count": 51,
   "id": "liquid-extra",
   "metadata": {},
   "outputs": [],
   "source": [
    "x_val = x_train[:1000]\n",
    "partial_x_train = x_train[1000:]\n",
    "y_val = one_hot_train_labels[:1000]\n",
    "partial_y_train = one_hot_train_labels[1000:]"
   ]
  },
  {
   "cell_type": "code",
   "execution_count": 17,
   "id": "complex-stuff",
   "metadata": {},
   "outputs": [],
   "source": [
    "#  Model Training"
   ]
  },
  {
   "cell_type": "code",
   "execution_count": 52,
   "id": "verified-water",
   "metadata": {},
   "outputs": [
    {
     "name": "stdout",
     "output_type": "stream",
     "text": [
      "Epoch 1/20\n",
      "16/16 [==============================] - 1s 81ms/step - loss: 0.0000e+00 - accuracy: 1.0000 - val_loss: 0.0039 - val_accuracy: 0.9990\n",
      "Epoch 2/20\n",
      "16/16 [==============================] - 1s 64ms/step - loss: 0.0000e+00 - accuracy: 1.0000 - val_loss: 0.0039 - val_accuracy: 0.9990\n",
      "Epoch 3/20\n",
      "16/16 [==============================] - 1s 68ms/step - loss: 0.0000e+00 - accuracy: 1.0000 - val_loss: 0.0039 - val_accuracy: 0.9990\n",
      "Epoch 4/20\n",
      "16/16 [==============================] - ETA: 0s - loss: 0.0000e+00 - accuracy: 1.00 - 1s 69ms/step - loss: 0.0000e+00 - accuracy: 1.0000 - val_loss: 0.0039 - val_accuracy: 0.9990\n",
      "Epoch 5/20\n",
      "16/16 [==============================] - 1s 66ms/step - loss: 0.0000e+00 - accuracy: 1.0000 - val_loss: 0.0039 - val_accuracy: 0.9990\n",
      "Epoch 6/20\n",
      "16/16 [==============================] - 1s 67ms/step - loss: 0.0000e+00 - accuracy: 1.0000 - val_loss: 0.0039 - val_accuracy: 0.9990\n",
      "Epoch 7/20\n",
      "16/16 [==============================] - 1s 70ms/step - loss: 0.0000e+00 - accuracy: 1.0000 - val_loss: 0.0039 - val_accuracy: 0.9990\n",
      "Epoch 8/20\n",
      "16/16 [==============================] - 1s 60ms/step - loss: 0.0000e+00 - accuracy: 1.0000 - val_loss: 0.0039 - val_accuracy: 0.9990\n",
      "Epoch 9/20\n",
      "16/16 [==============================] - 1s 56ms/step - loss: 0.0000e+00 - accuracy: 1.0000 - val_loss: 0.0039 - val_accuracy: 0.9990\n",
      "Epoch 10/20\n",
      "16/16 [==============================] - 1s 59ms/step - loss: 0.0000e+00 - accuracy: 1.0000 - val_loss: 0.0039 - val_accuracy: 0.9990\n",
      "Epoch 11/20\n",
      "16/16 [==============================] - 1s 63ms/step - loss: 0.0000e+00 - accuracy: 1.0000 - val_loss: 0.0039 - val_accuracy: 0.9990\n",
      "Epoch 12/20\n",
      "16/16 [==============================] - 1s 58ms/step - loss: 0.0000e+00 - accuracy: 1.0000 - val_loss: 0.0039 - val_accuracy: 0.9990\n",
      "Epoch 13/20\n",
      "16/16 [==============================] - 1s 58ms/step - loss: 0.0000e+00 - accuracy: 1.0000 - val_loss: 0.0039 - val_accuracy: 0.9990\n",
      "Epoch 14/20\n",
      "16/16 [==============================] - 1s 58ms/step - loss: 0.0000e+00 - accuracy: 1.0000 - val_loss: 0.0039 - val_accuracy: 0.9990\n",
      "Epoch 15/20\n",
      "16/16 [==============================] - 1s 58ms/step - loss: 0.0000e+00 - accuracy: 1.0000 - val_loss: 0.0039 - val_accuracy: 0.9990\n",
      "Epoch 16/20\n",
      "16/16 [==============================] - 1s 57ms/step - loss: 0.0000e+00 - accuracy: 1.0000 - val_loss: 0.0039 - val_accuracy: 0.9990\n",
      "Epoch 17/20\n",
      "16/16 [==============================] - 1s 61ms/step - loss: 0.0000e+00 - accuracy: 1.0000 - val_loss: 0.0039 - val_accuracy: 0.9990\n",
      "Epoch 18/20\n",
      "16/16 [==============================] - 1s 61ms/step - loss: 0.0000e+00 - accuracy: 1.0000 - val_loss: 0.0039 - val_accuracy: 0.9990\n",
      "Epoch 19/20\n",
      "16/16 [==============================] - 1s 64ms/step - loss: 0.0000e+00 - accuracy: 1.0000 - val_loss: 0.0039 - val_accuracy: 0.9990\n",
      "Epoch 20/20\n",
      "16/16 [==============================] - 1s 60ms/step - loss: 0.0000e+00 - accuracy: 1.0000 - val_loss: 0.0039 - val_accuracy: 0.9990\n"
     ]
    }
   ],
   "source": [
    "history = model.fit(partial_x_train,partial_y_train,epochs=20,batch_size=512,validation_data=(x_val, y_val))"
   ]
  },
  {
   "cell_type": "code",
   "execution_count": null,
   "id": "cellular-invite",
   "metadata": {},
   "outputs": [],
   "source": [
    "# Ploting the traing and validation loss"
   ]
  },
  {
   "cell_type": "code",
   "execution_count": 53,
   "id": "aerial-battlefield",
   "metadata": {},
   "outputs": [
    {
     "data": {
      "image/png": "[encoded data removed]",
      "text/plain": [
       "<Figure size 432x288 with 1 Axes>"
      ]
     },
     "metadata": {
      "needs_background": "light"
     },
     "output_type": "display_data"
    }
   ],
   "source": [
    "import matplotlib.pyplot as plt\n",
    "loss = history.history['loss']\n",
    "val_loss = history.history['val_loss']\n",
    "epochs = range(1, len(loss) + 1)\n",
    "plt.plot(epochs, loss, 'bo', label='Training loss')\n",
    "plt.plot(epochs, val_loss, 'b', label='Validation loss')\n",
    "plt.title('Training and validation loss')\n",
    "plt.xlabel('Epochs')\n",
    "plt.ylabel('Loss')\n",
    "plt.legend()\n",
    "plt.show()"
   ]
  },
  {
   "cell_type": "code",
   "execution_count": 33,
   "id": "ordered-panel",
   "metadata": {},
   "outputs": [],
   "source": [
    "#  Ploting training and validation accuracy"
   ]
  },
  {
   "cell_type": "code",
   "execution_count": 35,
   "id": "bridal-shelter",
   "metadata": {},
   "outputs": [
    {
     "data": {
      "image/png": "[encoded data removed]",
      "text/plain": [
       "<Figure size 432x288 with 1 Axes>"
      ]
     },
     "metadata": {
      "needs_background": "light"
     },
     "output_type": "display_data"
    }
   ],
   "source": [
    "acc = history.history['accuracy']\n",
    "val_acc = history.history['val_accuracy']\n",
    "plt.plot(epochs, acc, 'bo', label='Training acc')\n",
    "plt.plot(epochs, val_acc, 'b', label='Validation acc')\n",
    "plt.title('Training and validation accuracy')\n",
    "plt.xlabel('Epochs')\n",
    "plt.ylabel('Loss')\n",
    "plt.legend()\n",
    "plt.show()"
   ]
  },
  {
   "cell_type": "code",
   "execution_count": null,
   "id": "thirty-indie",
   "metadata": {},
   "outputs": [],
   "source": [
    "#  now retaining our model"
   ]
  },
  {
   "cell_type": "code",
   "execution_count": 36,
   "id": "tough-immunology",
   "metadata": {},
   "outputs": [
    {
     "name": "stdout",
     "output_type": "stream",
     "text": [
      "Epoch 1/9\n",
      "16/16 [==============================] - 1s 74ms/step - loss: 0.0000e+00 - accuracy: 1.0000 - val_loss: 0.0039 - val_accuracy: 0.9990\n",
      "Epoch 2/9\n",
      "16/16 [==============================] - 1s 63ms/step - loss: 0.0000e+00 - accuracy: 1.0000 - val_loss: 0.0039 - val_accuracy: 0.9990\n",
      "Epoch 3/9\n",
      "16/16 [==============================] - 1s 62ms/step - loss: 0.0000e+00 - accuracy: 1.0000 - val_loss: 0.0039 - val_accuracy: 0.9990\n",
      "Epoch 4/9\n",
      "16/16 [==============================] - 1s 61ms/step - loss: 0.0000e+00 - accuracy: 1.0000 - val_loss: 0.0039 - val_accuracy: 0.9990\n",
      "Epoch 5/9\n",
      "16/16 [==============================] - 1s 69ms/step - loss: 0.0000e+00 - accuracy: 1.0000 - val_loss: 0.0039 - val_accuracy: 0.9990\n",
      "Epoch 6/9\n",
      "16/16 [==============================] - 1s 60ms/step - loss: 0.0000e+00 - accuracy: 1.0000 - val_loss: 0.0039 - val_accuracy: 0.9990\n",
      "Epoch 7/9\n",
      "16/16 [==============================] - 1s 60ms/step - loss: 0.0000e+00 - accuracy: 1.0000 - val_loss: 0.0039 - val_accuracy: 0.9990\n",
      "Epoch 8/9\n",
      "16/16 [==============================] - 1s 60ms/step - loss: 0.0000e+00 - accuracy: 1.0000 - val_loss: 0.0039 - val_accuracy: 0.9990\n",
      "Epoch 9/9\n",
      "16/16 [==============================] - 1s 58ms/step - loss: 0.0000e+00 - accuracy: 1.0000 - val_loss: 0.0039 - val_accuracy: 0.9990\n",
      "71/71 [==============================] - 0s 4ms/step - loss: 0.0017 - accuracy: 0.9996\n"
     ]
    }
   ],
   "source": [
    "model = models.Sequential()\n",
    "\n",
    "model.add(layers.Dense(64, activation='relu', input_shape=(10000,)))\n",
    "model.add(layers.Dense(64, activation='relu'))\n",
    "model.add(layers.Dense(46, activation='softmax'))\n",
    "\n",
    "model.compile(optimizer='rmsprop',loss='categorical_crossentropy',metrics=['accuracy'])\n",
    "model.fit(partial_x_train,partial_y_train,epochs=9,batch_size=512,\n",
    "validation_data=(x_val, y_val))\n",
    "results = model.evaluate(x_test, one_hot_test_labels)"
   ]
  },
  {
   "cell_type": "code",
   "execution_count": 37,
   "id": "upset-album",
   "metadata": {},
   "outputs": [
    {
     "data": {
      "text/plain": [
       "[0.0017070905305445194, 0.9995547533035278]"
      ]
     },
     "execution_count": 37,
     "metadata": {},
     "output_type": "execute_result"
    }
   ],
   "source": [
    "results"
   ]
  },
  {
   "cell_type": "code",
   "execution_count": 38,
   "id": "compressed-chicken",
   "metadata": {},
   "outputs": [],
   "source": [
    "# This approach reaches an accuracy of ~80%. With a balanced binary classification\n",
    "# problem, the accuracy reached by a purely random classifier would be 50%. But in\n",
    "# this case it’s closer to 19%, so the results seem pretty good, at least when compared to\n",
    "# a random baseline:"
   ]
  },
  {
   "cell_type": "code",
   "execution_count": 54,
   "id": "statewide-damages",
   "metadata": {},
   "outputs": [
    {
     "data": {
      "text/plain": [
       "0.19011576135351738"
      ]
     },
     "execution_count": 54,
     "metadata": {},
     "output_type": "execute_result"
    }
   ],
   "source": [
    "import copy\n",
    "test_labels_copy = copy.copy(test_labels)\n",
    "np.random.shuffle(test_labels_copy)\n",
    "hits_array = np.array(test_labels) == np.array(test_labels_copy)\n",
    "float(np.sum(hits_array)) / len(test_labels)"
   ]
  },
  {
   "cell_type": "code",
   "execution_count": 40,
   "id": "perfect-fellowship",
   "metadata": {},
   "outputs": [],
   "source": [
    "# Prediction"
   ]
  },
  {
   "cell_type": "code",
   "execution_count": 41,
   "id": "unusual-dependence",
   "metadata": {},
   "outputs": [
    {
     "data": {
      "text/plain": [
       "(46,)"
      ]
     },
     "execution_count": 41,
     "metadata": {},
     "output_type": "execute_result"
    }
   ],
   "source": [
    "predictions = model.predict(x_test)\n",
    "predictions[0].shape"
   ]
  },
  {
   "cell_type": "code",
   "execution_count": 42,
   "id": "jewish-google",
   "metadata": {},
   "outputs": [
    {
     "data": {
      "text/plain": [
       "array([[0.02105588, 0.02251783, 0.02219126, ..., 0.0190987 , 0.02372087,\n",
       "        0.02225589],\n",
       "       [0.02173913, 0.02173913, 0.02173913, ..., 0.02173913, 0.02173913,\n",
       "        0.02173913],\n",
       "       [0.02173913, 0.02173913, 0.02173913, ..., 0.02173913, 0.02173913,\n",
       "        0.02173913],\n",
       "       ...,\n",
       "       [0.02173913, 0.02173913, 0.02173913, ..., 0.02173913, 0.02173913,\n",
       "        0.02173913],\n",
       "       [0.02173913, 0.02173913, 0.02173913, ..., 0.02173913, 0.02173913,\n",
       "        0.02173913],\n",
       "       [0.02173913, 0.02173913, 0.02173913, ..., 0.02173913, 0.02173913,\n",
       "        0.02173913]], dtype=float32)"
      ]
     },
     "execution_count": 42,
     "metadata": {},
     "output_type": "execute_result"
    }
   ],
   "source": [
    "predictions"
   ]
  },
  {
   "cell_type": "code",
   "execution_count": null,
   "id": "respective-lambda",
   "metadata": {},
   "outputs": [],
   "source": []
  }
 ],
 "metadata": {
  "kernelspec": {
   "display_name": "Python 3",
   "language": "python",
   "name": "python3"
  },
  "language_info": {
   "codemirror_mode": {
    "name": "ipython",
    "version": 3
   },
   "file_extension": ".py",
   "mimetype": "text/x-python",
   "name": "python",
   "nbconvert_exporter": "python",
   "pygments_lexer": "ipython3",
   "version": "3.7.10"
  }
 },
 "nbformat": 4,
 "nbformat_minor": 5
}
